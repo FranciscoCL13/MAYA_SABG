{
 "cells": [
  {
   "cell_type": "code",
   "execution_count": 2,
   "id": "c8a358bf-27af-4a7d-b6a0-786493779d3f",
   "metadata": {},
   "outputs": [],
   "source": [
    "#!pip install psycopg2-binary\n",
    "#!pip install pangres\n"
   ]
  },
  {
   "cell_type": "code",
   "execution_count": 3,
   "id": "c339411f-3c4b-43fa-8009-55816acb14a0",
   "metadata": {
    "scrolled": true
   },
   "outputs": [
    {
     "name": "stdout",
     "output_type": "stream",
     "text": [
      "('booleanexpression',)\n",
      "('audittaskimpl',)\n",
      "('bamtasksummary',)\n",
      "('correlationkeyinfo',)\n",
      "('casefiledatalog',)\n",
      "('caseidinfo',)\n",
      "('caseroleassignmentlog',)\n",
      "('content',)\n",
      "('contextmappinginfo',)\n",
      "('deadline',)\n",
      "('attachment',)\n",
      "('delegation_delegates',)\n",
      "('deploymentstore',)\n",
      "('eventtypes',)\n",
      "('errorinfo',)\n",
      "('email_header',)\n",
      "('executionerrorinfo',)\n",
      "('i18ntext',)\n",
      "('nodeinstancelog',)\n",
      "('processinstancelog',)\n",
      "('querydefinitionstore',)\n",
      "('organizationalentity',)\n",
      "('processinstanceinfo',)\n",
      "('reassignment',)\n",
      "('notification',)\n",
      "('notification_bas',)\n",
      "('notification_email_header',)\n",
      "('notification_recipients',)\n",
      "('peopleassignments_bas',)\n",
      "('peopleassignments_exclowners',)\n",
      "('peopleassignments_potowners',)\n",
      "('peopleassignments_recipients',)\n",
      "('peopleassignments_stakeholders',)\n",
      "('reassignment_potentialowners',)\n",
      "('sessioninfo',)\n",
      "('requestinfo',)\n",
      "('taskdef',)\n",
      "('taskevent',)\n",
      "('taskvariableimpl',)\n",
      "('variableinstancelog',)\n",
      "('workiteminfo',)\n",
      "('task_comment',)\n",
      "('task',)\n",
      "('escalation',)\n",
      "('correlationpropertyinfo',)\n",
      "('tablajackone',)\n",
      "('tablajacktwo',)\n",
      "('tablajohn',)\n",
      "('tablakaty',)\n",
      "('tablacontodos',)\n",
      "('temp_combined',)\n"
     ]
    }
   ],
   "source": [
    "from sqlalchemy import create_engine, text\n",
    "import pandas as pd\n",
    "\n",
    "# Parámetros de conexión\n",
    "user = 'jbpm'\n",
    "password = 'jbpm'\n",
    "host = 'localhost'\n",
    "port = '5432'\n",
    "database = 'jbpm'\n",
    "\n",
    "# conexión\n",
    "engine = create_engine(f'postgresql+psycopg2://{user}:{password}@{host}:{port}/{database}')\n",
    "\n",
    "# Probar conexión y listar tablas\n",
    "with engine.connect() as connection:\n",
    "    result = connection.execute(text(\"SELECT table_name FROM information_schema.tables WHERE table_schema='public'\"))\n",
    "    for row in result:\n",
    "        # Imprimir usando el índice de la tupla\n",
    "        #print(row[0])  # row[0] es el valor de la primera columna (table_name)\n",
    "        print(row)\n"
   ]
  },
  {
   "cell_type": "code",
   "execution_count": 4,
   "id": "b908278c-0374-4a7f-b1ac-d897888ef273",
   "metadata": {},
   "outputs": [],
   "source": [
    "# #CARGO TODAS las Tablas y las encierro en un try except para que me arroje mensaje de error\n",
    "# tablas = {\n",
    "#     'tablajackone': None,\n",
    "#     'tablajacktwo': None,\n",
    "#     'tablajohn': None,\n",
    "#     'tablakaty': None\n",
    "# }\n",
    "\n",
    "# try:\n",
    "#     for nombre_tabla in tablas:\n",
    "#         tablas[nombre_tabla] = pd.read_sql_table(nombre_tabla, con=engine)\n",
    "#     print(\"✅ Success: todas las tablas cargadas correctamente.\")\n",
    "    \n",
    "#  \n",
    "#     dfjackone = tablas['tablajackone']\n",
    "#     dfjacktwo = tablas['tablajacktwo']\n",
    "#     dfjohn = tablas['tablajohn']\n",
    "#     dfkaty = tablas['tablakaty']\n",
    "\n",
    "# except Exception as e:\n",
    "#     print(f\"❌ Error: no se pudo cargar la tabla '{nombre_tabla}'. Detalle del error: {e}\")\n"
   ]
  },
  {
   "cell_type": "code",
   "execution_count": 5,
   "id": "4c18901f-aee2-40f7-9b8f-f11360c54091",
   "metadata": {},
   "outputs": [
    {
     "data": {
      "text/html": [
       "<div>\n",
       "<style scoped>\n",
       "    .dataframe tbody tr th:only-of-type {\n",
       "        vertical-align: middle;\n",
       "    }\n",
       "\n",
       "    .dataframe tbody tr th {\n",
       "        vertical-align: top;\n",
       "    }\n",
       "\n",
       "    .dataframe thead th {\n",
       "        text-align: right;\n",
       "    }\n",
       "</style>\n",
       "<table border=\"1\" class=\"dataframe\">\n",
       "  <thead>\n",
       "    <tr style=\"text-align: right;\">\n",
       "      <th></th>\n",
       "      <th>id</th>\n",
       "      <th>lastname</th>\n",
       "      <th>name</th>\n",
       "    </tr>\n",
       "  </thead>\n",
       "  <tbody>\n",
       "    <tr>\n",
       "      <th>0</th>\n",
       "      <td>1</td>\n",
       "      <td>Moreno Hernandez</td>\n",
       "      <td>Danika</td>\n",
       "    </tr>\n",
       "    <tr>\n",
       "      <th>1</th>\n",
       "      <td>2</td>\n",
       "      <td>prueba-TAreas</td>\n",
       "      <td>Prueba-tarea</td>\n",
       "    </tr>\n",
       "    <tr>\n",
       "      <th>2</th>\n",
       "      <td>3</td>\n",
       "      <td>tercerregistro</td>\n",
       "      <td>tercerregistro</td>\n",
       "    </tr>\n",
       "    <tr>\n",
       "      <th>3</th>\n",
       "      <td>4</td>\n",
       "      <td>registros duplicados</td>\n",
       "      <td>registros duplicados</td>\n",
       "    </tr>\n",
       "    <tr>\n",
       "      <th>4</th>\n",
       "      <td>5</td>\n",
       "      <td>NO DUPLICADOS</td>\n",
       "      <td>NO DUPLICADOS</td>\n",
       "    </tr>\n",
       "  </tbody>\n",
       "</table>\n",
       "</div>"
      ],
      "text/plain": [
       "   id              lastname                  name\n",
       "0   1      Moreno Hernandez                Danika\n",
       "1   2         prueba-TAreas          Prueba-tarea\n",
       "2   3        tercerregistro        tercerregistro\n",
       "3   4  registros duplicados  registros duplicados\n",
       "4   5         NO DUPLICADOS         NO DUPLICADOS"
      ]
     },
     "execution_count": 5,
     "metadata": {},
     "output_type": "execute_result"
    }
   ],
   "source": [
    "#Cagrar todas las talass\n",
    "dfjackone = pd.read_sql_table('tablajackone', con=engine)\n",
    "dfjacktwo = pd.read_sql_table('tablajacktwo', con=engine)\n",
    "dfjohn = pd.read_sql_table('tablajohn', con=engine)\n",
    "dfkaty = pd.read_sql_table('tablakaty', con=engine)\n",
    "dfjackone.head()\n",
    "# dfjacktwo.head()\n",
    "# dfjohn.head()\n",
    "# df.katy.head()"
   ]
  },
  {
   "cell_type": "code",
   "execution_count": 6,
   "id": "a3b4ae6e-e547-49ee-849a-c44fe84cd01b",
   "metadata": {},
   "outputs": [
    {
     "name": "stdout",
     "output_type": "stream",
     "text": [
      "ℹ️ La tabla 'tablacontodos' ya existe. Continuando con el proceso...\n"
     ]
    }
   ],
   "source": [
    "from sqlalchemy import inspect\n",
    "import pandas as pd\n",
    "\n",
    "# Crear el inspector para leer la metadata de la base de datos\n",
    "inspector = inspect(engine)\n",
    "\n",
    "# Verificar si la tabla 'tablacontodos' existe\n",
    "if 'tablacontodos' not in inspector.get_table_names():\n",
    "    # Lista de tablas de origen\n",
    "    tablas_origen = ['tablajackone', 'tablajacktwo', 'tablakaty', 'tablajohn']\n",
    "\n",
    "    # Conjunto para guardar todos los nombres de columnas sin duplicados\n",
    "    todas_las_columnas = set()\n",
    "\n",
    "    # Iterar sobre cada tabla y obtener columnas\n",
    "    for tabla in tablas_origen:\n",
    "        columnas = [col['name'] for col in inspector.get_columns(tabla)]\n",
    "        todas_las_columnas.update(columnas)\n",
    "\n",
    "    # Lista de columnas deseadas\n",
    "    columnas_deseadas = ['id', 'lastname', 'name', 'comments', 'email', 'date', 'reason', 'activo', 'inside']\n",
    "\n",
    "    # Filtrar las columnas deseadas que están presentes en el conjunto\n",
    "    columnas_finales = [col for col in columnas_deseadas if col in todas_las_columnas]\n",
    "\n",
    "    # Crear un DataFrame vacío con las columnas deseadas\n",
    "    df_vacio = pd.DataFrame(columns=columnas_finales)\n",
    "\n",
    "    # Crear la tabla si no existe (vacía)\n",
    "    df_vacio.to_sql('tablacontodos', engine, if_exists='fail', index=False)\n",
    "\n",
    "    print(f\"✅ La tabla 'tablacontodos' se ha creado con estas columnas:\\n{columnas_finales}\")\n",
    "else:\n",
    "    print(\"ℹ️ La tabla 'tablacontodos' ya existe. Continuando con el proceso...\")\n"
   ]
  },
  {
   "cell_type": "code",
   "execution_count": 7,
   "id": "433bb5cf-cf96-4bef-9958-d875d4360c64",
   "metadata": {},
   "outputs": [
    {
     "data": {
      "text/html": [
       "<div>\n",
       "<style scoped>\n",
       "    .dataframe tbody tr th:only-of-type {\n",
       "        vertical-align: middle;\n",
       "    }\n",
       "\n",
       "    .dataframe tbody tr th {\n",
       "        vertical-align: top;\n",
       "    }\n",
       "\n",
       "    .dataframe thead th {\n",
       "        text-align: right;\n",
       "    }\n",
       "</style>\n",
       "<table border=\"1\" class=\"dataframe\">\n",
       "  <thead>\n",
       "    <tr style=\"text-align: right;\">\n",
       "      <th></th>\n",
       "      <th>activo</th>\n",
       "      <th>comments</th>\n",
       "      <th>date</th>\n",
       "      <th>email</th>\n",
       "      <th>id</th>\n",
       "      <th>inside</th>\n",
       "      <th>lastname</th>\n",
       "      <th>name</th>\n",
       "      <th>reason</th>\n",
       "    </tr>\n",
       "  </thead>\n",
       "  <tbody>\n",
       "  </tbody>\n",
       "</table>\n",
       "</div>"
      ],
      "text/plain": [
       "Empty DataFrame\n",
       "Columns: [activo, comments, date, email, id, inside, lastname, name, reason]\n",
       "Index: []"
      ]
     },
     "execution_count": 7,
     "metadata": {},
     "output_type": "execute_result"
    }
   ],
   "source": [
    "dfcont = pd.read_sql_table('tablacontodos', con=engine)\n",
    "dfcont.head()"
   ]
  },
  {
   "cell_type": "code",
   "execution_count": 8,
   "id": "cdde585c-efa1-4d27-8ffa-0b80fb2002de",
   "metadata": {},
   "outputs": [
    {
     "data": {
      "text/html": [
       "<div>\n",
       "<style scoped>\n",
       "    .dataframe tbody tr th:only-of-type {\n",
       "        vertical-align: middle;\n",
       "    }\n",
       "\n",
       "    .dataframe tbody tr th {\n",
       "        vertical-align: top;\n",
       "    }\n",
       "\n",
       "    .dataframe thead th {\n",
       "        text-align: right;\n",
       "    }\n",
       "</style>\n",
       "<table border=\"1\" class=\"dataframe\">\n",
       "  <thead>\n",
       "    <tr style=\"text-align: right;\">\n",
       "      <th></th>\n",
       "      <th>id</th>\n",
       "      <th>lastname</th>\n",
       "      <th>name</th>\n",
       "      <th>comments</th>\n",
       "      <th>email</th>\n",
       "      <th>date</th>\n",
       "      <th>reason</th>\n",
       "      <th>activo</th>\n",
       "      <th>inside</th>\n",
       "    </tr>\n",
       "  </thead>\n",
       "  <tbody>\n",
       "  </tbody>\n",
       "</table>\n",
       "</div>"
      ],
      "text/plain": [
       "Empty DataFrame\n",
       "Columns: [id, lastname, name, comments, email, date, reason, activo, inside]\n",
       "Index: []"
      ]
     },
     "execution_count": 8,
     "metadata": {},
     "output_type": "execute_result"
    }
   ],
   "source": [
    "df_combined = dfjackone.merge(dfjacktwo, on='id', how='outer') \\\n",
    "                       .merge(dfkaty, on='id', how='outer') \\\n",
    "                       .merge(dfjohn, on='id', how='outer')\n",
    "df_combined.head(0)"
   ]
  },
  {
   "cell_type": "code",
   "execution_count": 9,
   "id": "a67076e8-8e7c-4b89-8a13-390fb1bdf1f1",
   "metadata": {},
   "outputs": [],
   "source": [
    "#Eliminar duplicados\n",
    "df_combined.drop_duplicates(subset='id', keep='last', inplace=True)"
   ]
  },
  {
   "cell_type": "code",
   "execution_count": 10,
   "id": "4a676914-5666-4e40-a037-8345d2d44749",
   "metadata": {},
   "outputs": [],
   "source": [
    "#Cargar el dataFrame en una tabla temporal porque la quiero comparar con \"tablacontodos\" y hacerle un join\n",
    "def cargar_temporal(df_combined):\n",
    "  \n",
    "    df_combined.to_sql('temp_combined', engine, if_exists='replace', index=False)\n",
    "    print(\"Datos cargados en la tabla temporal 'temp_combined'.\")\n"
   ]
  },
  {
   "cell_type": "code",
   "execution_count": 11,
   "id": "c3e7592f-7ef6-4c0e-a538-f96bf9505e9d",
   "metadata": {},
   "outputs": [],
   "source": [
    "\n",
    "# #df_concat = pd.concat([dfjackone, dfjacktwo,dfjohn,dfkaty], ignore_index=False)\n",
    "# # Lista de DataFrames a combinar\n",
    "# from functools import reduce\n",
    "\n",
    "# dfs = [dfjackone, dfjacktwo, dfjohn, dfkaty]\n",
    "\n",
    "# # Función para combinar dos DataFrames\n",
    "# def merge_two(left, right):\n",
    "#     return pd.merge(left, right, on='id', how='outer')\n",
    "\n",
    "# # Combinación de todos los DataFrames\n",
    "# df_concat = reduce(merge_two, dfs)\n",
    "\n",
    "# #eliminar duplicados\n",
    "# #df_concat = df_concat.drop_duplicates()\n",
    "# df_concat = df_concat.drop_duplicates(subset=['id'])\n",
    "\n",
    "# # Mostrar las primeras filas del DataFrame combinado\n",
    "# df_concat.head()\n"
   ]
  },
  {
   "cell_type": "code",
   "execution_count": 12,
   "id": "0e65715e-0c56-476f-8692-4d338b480c54",
   "metadata": {},
   "outputs": [],
   "source": [
    "#hago mi funcion que haga el left join a la tablacontodos para ver registros que no coinciden\n",
    "def obtener_nuevos_registros():\n",
    "    # Consulta SQL \n",
    "    query = \"\"\"\n",
    "    SELECT *\n",
    "    FROM temp_combined AS t1\n",
    "    LEFT JOIN tablacontodos AS t2 ON CAST(t1.id AS int) = CAST(t2.id AS int)\n",
    "    WHERE t2.id IS NULL;\n",
    "    \"\"\"\n",
    "    nuevos_registros = pd.read_sql(query, engine)\n",
    "    return nuevos_registros\n"
   ]
  },
  {
   "cell_type": "code",
   "execution_count": 13,
   "id": "b3941fae-c5cf-48c6-b8eb-f11a0dff34c9",
   "metadata": {},
   "outputs": [],
   "source": [
    "#INSERTAR REGISTROS QUE se encuentran en df_combined pero no estan en tablacontodos ya que son los nuevos\n",
    "def insertar_nuevos_registros(nuevos_registros):\n",
    "    if not nuevos_registros.empty:\n",
    "        nuevos_registros.to_sql('tablacontodos', engine, if_exists='append', index=False)\n",
    "        print(f\"Se insertaron {len(nuevos_registros)} nuevos registros.\")\n",
    "    else:\n",
    "        print(\"No hay registros nuevos para insertar.\")\n"
   ]
  },
  {
   "cell_type": "code",
   "execution_count": 1,
   "id": "12852bfe-cd72-45f9-bf7b-014a41f3e981",
   "metadata": {},
   "outputs": [
    {
     "ename": "NameError",
     "evalue": "name 'pd' is not defined",
     "output_type": "error",
     "traceback": [
      "\u001b[31m---------------------------------------------------------------------------\u001b[39m",
      "\u001b[31mNameError\u001b[39m                                 Traceback (most recent call last)",
      "\u001b[36mCell\u001b[39m\u001b[36m \u001b[39m\u001b[32mIn[1]\u001b[39m\u001b[32m, line 1\u001b[39m\n\u001b[32m----> \u001b[39m\u001b[32m1\u001b[39m dfv = \u001b[43mpd\u001b[49m.read_sql(\u001b[33m\"\u001b[39m\u001b[33mselect processinstanceid , value, variableinstanceid  from variableinstancelog;\u001b[39m\u001b[33m\"\u001b[39m, engine)\n\u001b[32m      2\u001b[39m dfjackone.head()\n",
      "\u001b[31mNameError\u001b[39m: name 'pd' is not defined"
     ]
    }
   ],
   "source": [
    "dfv = pd.read_sql(\"select processinstanceid , value, variableinstanceid  from variableinstancelog;\", engine)\n",
    "dfjackone.head()\n"
   ]
  },
  {
   "cell_type": "code",
   "execution_count": null,
   "id": "7591759b-76fd-44f0-9c35-7b9e468da13c",
   "metadata": {},
   "outputs": [],
   "source": [
    "#dfjacktwo = pd.read_sql(\"SELECT * FROM tablajacktwo\", engine)\n",
    "#dfjacktwo.head()\n"
   ]
  },
  {
   "cell_type": "code",
   "execution_count": null,
   "id": "daca6fde-def8-4cf5-ac81-5078e8704e62",
   "metadata": {},
   "outputs": [],
   "source": [
    "#dfjohn = pd.read_sql(\"SELECT * FROM tablajohn\", engine)\n",
    "#dfjohn.head()\n"
   ]
  },
  {
   "cell_type": "code",
   "execution_count": null,
   "id": "9701f053-1eb0-4c3f-b657-52515aa7b7e3",
   "metadata": {},
   "outputs": [],
   "source": [
    "#dfkaty= pd.read_sql(\"SELECT * FROM tablakaty\", engine)\n",
    "#dfkaty.head()\n"
   ]
  },
  {
   "cell_type": "code",
   "execution_count": null,
   "id": "c6bdd96d-b05e-4036-981c-52749fe70651",
   "metadata": {},
   "outputs": [],
   "source": [
    "#Ver si se encuentra en variables locales\n",
    "#'dfjackone' in locals()\n"
   ]
  },
  {
   "cell_type": "code",
   "execution_count": null,
   "id": "279c28c8-e128-4333-ba42-42660bb1324a",
   "metadata": {},
   "outputs": [],
   "source": [
    "# #Actualizar y crear la tablacontodos\n",
    "# df_combined.to_sql(\n",
    "#     name='tablacontodos',    # Nombre de la tabla en PostgreSQL\n",
    "#     con=engine,              # Conexión a la base de datos\n",
    "#     if_exists='append',      # Crea la tabla o la reemplaza si ya existe\n",
    "#     index=False              # No incluir el índice de pandas como columna\n",
    "# )\n"
   ]
  },
  {
   "cell_type": "code",
   "execution_count": null,
   "id": "562957f1-b017-4d50-9d8f-f7e59b905ba6",
   "metadata": {
    "scrolled": true
   },
   "outputs": [],
   "source": [
    "#from sqlalchemy import text\n",
    "#Verificar que la tabla ha sido insertada en la BD\n",
    "with engine.connect() as connection:\n",
    "    result = connection.execute(text(\"SELECT table_name FROM information_schema.tables WHERE table_schema='public'\"))\n",
    "    for row in result:\n",
    "        print(row[0])\n"
   ]
  },
  {
   "cell_type": "code",
   "execution_count": null,
   "id": "57e59162-817e-4ccc-a89e-be4381d3869a",
   "metadata": {},
   "outputs": [],
   "source": [
    "# Reemplaza la tabla si ya existe (truncate + insert)\n",
    "#df_combined.to_sql('tablacontodos', con=engine, if_exists='replace', index=False)\n",
    "\n"
   ]
  },
  {
   "cell_type": "code",
   "execution_count": null,
   "id": "3e5c46fa-aef3-4dc5-920b-a695b5e153cd",
   "metadata": {
    "scrolled": true
   },
   "outputs": [],
   "source": [
    "#Ver la tablacontodos\n",
    "df_verificacion = pd.read_sql('SELECT * FROM \"public\".\"tablacontodos\"', engine)\n",
    "df_verificacion.head(50)\n"
   ]
  },
  {
   "cell_type": "code",
   "execution_count": null,
   "id": "63989bbc-719f-4c19-9788-8c03791bf5ce",
   "metadata": {},
   "outputs": [],
   "source": []
  }
 ],
 "metadata": {
  "kernelspec": {
   "display_name": "Python (jbpm-data)",
   "language": "python",
   "name": "jbpm-data"
  },
  "language_info": {
   "codemirror_mode": {
    "name": "ipython",
    "version": 3
   },
   "file_extension": ".py",
   "mimetype": "text/x-python",
   "name": "python",
   "nbconvert_exporter": "python",
   "pygments_lexer": "ipython3",
   "version": "3.13.3"
  }
 },
 "nbformat": 4,
 "nbformat_minor": 5
}
