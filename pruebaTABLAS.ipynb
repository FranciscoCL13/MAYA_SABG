{
 "cells": [
  {
   "cell_type": "code",
   "execution_count": null,
   "id": "9019a306-f4ac-4fd5-a8cb-7c64069e6e1f",
   "metadata": {
    "scrolled": true
   },
   "outputs": [],
   "source": [
    "from sqlalchemy import create_engine, text\n",
    "import pandas as pd\n",
    "\n",
    "# Parámetros de conexión\n",
    "user = 'jbpm'\n",
    "password = 'jbpm'\n",
    "host = 'localhost'\n",
    "port = '5432'\n",
    "database = 'jbpm'\n",
    "\n",
    "# Crea la URL de conexión\n",
    "engine = create_engine(f'postgresql+psycopg2://{user}:{password}@{host}:{port}/{database}')\n",
    "\n",
    "# Probar conexión: listar tablas\n",
    "with engine.connect() as connection:\n",
    "    result = connection.execute(text(\"SELECT table_name FROM information_schema.tables WHERE table_schema='public'\"))\n",
    "    for row in result:\n",
    "        # Imprimir usando el índice de la tupla\n",
    "        print(row[0])  # row[0] es el valor de la primera columna (table_name)\n",
    "\n"
   ]
  },
  {
   "cell_type": "code",
   "execution_count": null,
   "id": "2c4c8939-319a-46c5-b6c9-1e2b6ffe94c9",
   "metadata": {},
   "outputs": [],
   "source": [
    "df = pd.read_sql(\"select name, processinstanceid, value from taskvariableimpl t ;\", engine)\n",
    "df.head()\n"
   ]
  },
  {
   "cell_type": "code",
   "execution_count": null,
   "id": "3d3eaff3-a4e5-44d8-bf75-02371911c217",
   "metadata": {},
   "outputs": [],
   "source": [
    "df_pivot = df.pivot(index='processinstanceid', columns='name', values='value').reset_index()\n",
    "df_pivot.columns.name = None\n",
    "df_pivot.head()\n"
   ]
  },
  {
   "cell_type": "code",
   "execution_count": null,
   "id": "31ced7f1-2719-4abf-973f-8098d1cab12e",
   "metadata": {},
   "outputs": [],
   "source": [
    "df_pivot.to_sql(\n",
    "    name='x_tabla_prueba',    # Nombre de la tabla en PostgreSQL\n",
    "    con=engine,              # Conexión a la base de datos\n",
    "    if_exists='append',      # Crea la tabla o la reemplaza si ya existe\n",
    "    index=False              # No incluir el índice de pandas como columna\n",
    ")"
   ]
  },
  {
   "cell_type": "code",
   "execution_count": null,
   "id": "d6c19a55-164f-4013-86d6-9cddda251491",
   "metadata": {},
   "outputs": [],
   "source": [
    "df_verificacion = pd.read_sql('SELECT * FROM \"public\".\"x_tabla_prueba\"', engine)\n",
    "df_verificacion.tail()"
   ]
  },
  {
   "cell_type": "markdown",
   "id": "4d634cc3-e75f-4117-9f62-1c9f05c12e35",
   "metadata": {},
   "source": [
    "# UNION DE TABLAS POR ID, NOMBRE, INSTANCIA, TAREA, ETC"
   ]
  },
  {
   "cell_type": "code",
   "execution_count": null,
   "id": "9d56e345-4faf-402b-a5eb-0cd0f3a3d8e7",
   "metadata": {},
   "outputs": [],
   "source": [
    "# TABLA taskvariableimpl\n",
    "\n",
    "df_vars = pd.read_sql(\"\"\"\n",
    "    SELECT processinstanceid, taskid, name as Campo_llenado, value as registro_de_campo\n",
    "    FROM taskvariableimpl\n",
    "\"\"\", engine)\n",
    "df_vars.tail()\n"
   ]
  },
  {
   "cell_type": "code",
   "execution_count": null,
   "id": "5b5347f4-ec19-43ed-ab47-bfeb5afdcee9",
   "metadata": {},
   "outputs": [],
   "source": [
    "# TABLA Tareas\n",
    "df_tasks = pd.read_sql(\"\"\"\n",
    "    SELECT processinstanceid, id AS taskid, actualowner_id, formname as nombre_de_formulario\n",
    "    FROM task\n",
    "\"\"\", engine)\n",
    "df_tasks.tail()"
   ]
  },
  {
   "cell_type": "code",
   "execution_count": null,
   "id": "3db2940b-9bb1-40b8-9c4d-16d4f247b1eb",
   "metadata": {},
   "outputs": [],
   "source": [
    "# Paso 3: Unir variables con tareas (para saber quién hizo qué)\n",
    "df_combined = pd.merge(df_tasks, df_vars, on=['processinstanceid', 'taskid'], how='left')\n",
    "df_combined.tail()"
   ]
  }
 ],
 "metadata": {
  "kernelspec": {
   "display_name": "Python (jbpm-data)",
   "language": "python",
   "name": "jbpm-data"
  },
  "language_info": {
   "codemirror_mode": {
    "name": "ipython",
    "version": 3
   },
   "file_extension": ".py",
   "mimetype": "text/x-python",
   "name": "python",
   "nbconvert_exporter": "python",
   "pygments_lexer": "ipython3",
   "version": "3.13.3"
  }
 },
 "nbformat": 4,
 "nbformat_minor": 5
}
