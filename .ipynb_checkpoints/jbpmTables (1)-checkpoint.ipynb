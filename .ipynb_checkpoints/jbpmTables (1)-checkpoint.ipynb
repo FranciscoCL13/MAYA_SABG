{
 "cells": [
  {
   "cell_type": "code",
   "execution_count": 1,
   "id": "c8a358bf-27af-4a7d-b6a0-786493779d3f",
   "metadata": {},
   "outputs": [],
   "source": [
    "#!pip install psycopg2-binary\n"
   ]
  },
  {
   "cell_type": "code",
   "execution_count": 2,
   "id": "c339411f-3c4b-43fa-8009-55816acb14a0",
   "metadata": {
    "scrolled": true
   },
   "outputs": [
    {
     "name": "stdout",
     "output_type": "stream",
     "text": [
      "booleanexpression\n",
      "audittaskimpl\n",
      "bamtasksummary\n",
      "correlationkeyinfo\n",
      "casefiledatalog\n",
      "caseidinfo\n",
      "caseroleassignmentlog\n",
      "content\n",
      "contextmappinginfo\n",
      "deadline\n",
      "attachment\n",
      "delegation_delegates\n",
      "deploymentstore\n",
      "eventtypes\n",
      "errorinfo\n",
      "email_header\n",
      "executionerrorinfo\n",
      "i18ntext\n",
      "nodeinstancelog\n",
      "processinstancelog\n",
      "querydefinitionstore\n",
      "organizationalentity\n",
      "processinstanceinfo\n",
      "reassignment\n",
      "notification\n",
      "notification_bas\n",
      "notification_email_header\n",
      "notification_recipients\n",
      "peopleassignments_bas\n",
      "peopleassignments_exclowners\n",
      "peopleassignments_potowners\n",
      "peopleassignments_recipients\n",
      "peopleassignments_stakeholders\n",
      "reassignment_potentialowners\n",
      "sessioninfo\n",
      "requestinfo\n",
      "taskdef\n",
      "taskevent\n",
      "taskvariableimpl\n",
      "variableinstancelog\n",
      "workiteminfo\n",
      "task_comment\n",
      "task\n",
      "escalation\n",
      "correlationpropertyinfo\n",
      "entidad_global\n",
      "sector_privado\n",
      "tablados\n",
      "entityjackone\n",
      "entityjacktwo\n",
      "entityjohn\n",
      "entitykaty\n",
      "tablafinal\n",
      "Tablacompleta\n",
      "tablacontodos\n"
     ]
    }
   ],
   "source": [
    "from sqlalchemy import create_engine, text\n",
    "import pandas as pd\n",
    "\n",
    "# Parámetros de conexión\n",
    "user = 'jbpm'\n",
    "password = 'jbpm'\n",
    "host = 'localhost'\n",
    "port = '5432'\n",
    "database = 'jbpm'\n",
    "\n",
    "# Crea la URL de conexión\n",
    "engine = create_engine(f'postgresql+psycopg2://{user}:{password}@{host}:{port}/{database}')\n",
    "\n",
    "# Probar conexión: listar tablas\n",
    "with engine.connect() as connection:\n",
    "    result = connection.execute(text(\"SELECT table_name FROM information_schema.tables WHERE table_schema='public'\"))\n",
    "    for row in result:\n",
    "        # Imprimir usando el índice de la tupla\n",
    "        print(row[0])  # row[0] es el valor de la primera columna (table_name)\n",
    "\n"
   ]
  },
  {
   "cell_type": "code",
   "execution_count": 3,
   "id": "12852bfe-cd72-45f9-bf7b-014a41f3e981",
   "metadata": {},
   "outputs": [
    {
     "data": {
      "text/html": [
       "<div>\n",
       "<style scoped>\n",
       "    .dataframe tbody tr th:only-of-type {\n",
       "        vertical-align: middle;\n",
       "    }\n",
       "\n",
       "    .dataframe tbody tr th {\n",
       "        vertical-align: top;\n",
       "    }\n",
       "\n",
       "    .dataframe thead th {\n",
       "        text-align: right;\n",
       "    }\n",
       "</style>\n",
       "<table border=\"1\" class=\"dataframe\">\n",
       "  <thead>\n",
       "    <tr style=\"text-align: right;\">\n",
       "      <th></th>\n",
       "      <th>id</th>\n",
       "      <th>name</th>\n",
       "      <th>reason</th>\n",
       "    </tr>\n",
       "  </thead>\n",
       "  <tbody>\n",
       "    <tr>\n",
       "      <th>0</th>\n",
       "      <td>1</td>\n",
       "      <td>111-222</td>\n",
       "      <td>111-222</td>\n",
       "    </tr>\n",
       "    <tr>\n",
       "      <th>1</th>\n",
       "      <td>2</td>\n",
       "      <td>aaa-bbb</td>\n",
       "      <td>aaa-bbb</td>\n",
       "    </tr>\n",
       "  </tbody>\n",
       "</table>\n",
       "</div>"
      ],
      "text/plain": [
       "   id     name   reason\n",
       "0   1  111-222  111-222\n",
       "1   2  aaa-bbb  aaa-bbb"
      ]
     },
     "execution_count": 3,
     "metadata": {},
     "output_type": "execute_result"
    }
   ],
   "source": [
    "dfjackone = pd.read_sql(\"SELECT * FROM entityjackone\", engine)\n",
    "dfjackone.head()\n"
   ]
  },
  {
   "cell_type": "code",
   "execution_count": 4,
   "id": "7591759b-76fd-44f0-9c35-7b9e468da13c",
   "metadata": {},
   "outputs": [
    {
     "data": {
      "text/html": [
       "<div>\n",
       "<style scoped>\n",
       "    .dataframe tbody tr th:only-of-type {\n",
       "        vertical-align: middle;\n",
       "    }\n",
       "\n",
       "    .dataframe tbody tr th {\n",
       "        vertical-align: top;\n",
       "    }\n",
       "\n",
       "    .dataframe thead th {\n",
       "        text-align: right;\n",
       "    }\n",
       "</style>\n",
       "<table border=\"1\" class=\"dataframe\">\n",
       "  <thead>\n",
       "    <tr style=\"text-align: right;\">\n",
       "      <th></th>\n",
       "      <th>id</th>\n",
       "      <th>adress</th>\n",
       "      <th>email</th>\n",
       "    </tr>\n",
       "  </thead>\n",
       "  <tbody>\n",
       "    <tr>\n",
       "      <th>0</th>\n",
       "      <td>1</td>\n",
       "      <td>111-222</td>\n",
       "      <td>111-222</td>\n",
       "    </tr>\n",
       "    <tr>\n",
       "      <th>1</th>\n",
       "      <td>2</td>\n",
       "      <td>aaa-bbb</td>\n",
       "      <td>aaa-bbb</td>\n",
       "    </tr>\n",
       "  </tbody>\n",
       "</table>\n",
       "</div>"
      ],
      "text/plain": [
       "   id   adress    email\n",
       "0   1  111-222  111-222\n",
       "1   2  aaa-bbb  aaa-bbb"
      ]
     },
     "execution_count": 4,
     "metadata": {},
     "output_type": "execute_result"
    }
   ],
   "source": [
    "dfjacktwo = pd.read_sql(\"SELECT * FROM entityjacktwo\", engine)\n",
    "dfjacktwo.head()\n"
   ]
  },
  {
   "cell_type": "code",
   "execution_count": 5,
   "id": "daca6fde-def8-4cf5-ac81-5078e8704e62",
   "metadata": {},
   "outputs": [
    {
     "data": {
      "text/html": [
       "<div>\n",
       "<style scoped>\n",
       "    .dataframe tbody tr th:only-of-type {\n",
       "        vertical-align: middle;\n",
       "    }\n",
       "\n",
       "    .dataframe tbody tr th {\n",
       "        vertical-align: top;\n",
       "    }\n",
       "\n",
       "    .dataframe thead th {\n",
       "        text-align: right;\n",
       "    }\n",
       "</style>\n",
       "<table border=\"1\" class=\"dataframe\">\n",
       "  <thead>\n",
       "    <tr style=\"text-align: right;\">\n",
       "      <th></th>\n",
       "      <th>id</th>\n",
       "      <th>date</th>\n",
       "      <th>director</th>\n",
       "    </tr>\n",
       "  </thead>\n",
       "  <tbody>\n",
       "    <tr>\n",
       "      <th>0</th>\n",
       "      <td>1</td>\n",
       "      <td>2025-04-09 16:50:00</td>\n",
       "      <td>111-333</td>\n",
       "    </tr>\n",
       "    <tr>\n",
       "      <th>1</th>\n",
       "      <td>2</td>\n",
       "      <td>2025-04-11 17:55:00</td>\n",
       "      <td>aaa-bbb</td>\n",
       "    </tr>\n",
       "  </tbody>\n",
       "</table>\n",
       "</div>"
      ],
      "text/plain": [
       "   id                date director\n",
       "0   1 2025-04-09 16:50:00  111-333\n",
       "1   2 2025-04-11 17:55:00  aaa-bbb"
      ]
     },
     "execution_count": 5,
     "metadata": {},
     "output_type": "execute_result"
    }
   ],
   "source": [
    "dfjohn = pd.read_sql(\"SELECT * FROM entityjohn\", engine)\n",
    "dfjohn.head()\n"
   ]
  },
  {
   "cell_type": "code",
   "execution_count": 6,
   "id": "9701f053-1eb0-4c3f-b657-52515aa7b7e3",
   "metadata": {},
   "outputs": [
    {
     "data": {
      "text/html": [
       "<div>\n",
       "<style scoped>\n",
       "    .dataframe tbody tr th:only-of-type {\n",
       "        vertical-align: middle;\n",
       "    }\n",
       "\n",
       "    .dataframe tbody tr th {\n",
       "        vertical-align: top;\n",
       "    }\n",
       "\n",
       "    .dataframe thead th {\n",
       "        text-align: right;\n",
       "    }\n",
       "</style>\n",
       "<table border=\"1\" class=\"dataframe\">\n",
       "  <thead>\n",
       "    <tr style=\"text-align: right;\">\n",
       "      <th></th>\n",
       "      <th>id</th>\n",
       "      <th>activo</th>\n",
       "      <th>dentrodelcamino</th>\n",
       "    </tr>\n",
       "  </thead>\n",
       "  <tbody>\n",
       "    <tr>\n",
       "      <th>0</th>\n",
       "      <td>1</td>\n",
       "      <td>True</td>\n",
       "      <td>111-222</td>\n",
       "    </tr>\n",
       "    <tr>\n",
       "      <th>1</th>\n",
       "      <td>2</td>\n",
       "      <td>True</td>\n",
       "      <td>aaa-ccc</td>\n",
       "    </tr>\n",
       "  </tbody>\n",
       "</table>\n",
       "</div>"
      ],
      "text/plain": [
       "   id  activo dentrodelcamino\n",
       "0   1    True         111-222\n",
       "1   2    True         aaa-ccc"
      ]
     },
     "execution_count": 6,
     "metadata": {},
     "output_type": "execute_result"
    }
   ],
   "source": [
    "dfkaty= pd.read_sql(\"SELECT * FROM entitykaty\", engine)\n",
    "dfkaty.head()\n"
   ]
  },
  {
   "cell_type": "code",
   "execution_count": 7,
   "id": "c3e7592f-7ef6-4c0e-a538-f96bf9505e9d",
   "metadata": {},
   "outputs": [
    {
     "data": {
      "text/html": [
       "<div>\n",
       "<style scoped>\n",
       "    .dataframe tbody tr th:only-of-type {\n",
       "        vertical-align: middle;\n",
       "    }\n",
       "\n",
       "    .dataframe tbody tr th {\n",
       "        vertical-align: top;\n",
       "    }\n",
       "\n",
       "    .dataframe thead th {\n",
       "        text-align: right;\n",
       "    }\n",
       "</style>\n",
       "<table border=\"1\" class=\"dataframe\">\n",
       "  <thead>\n",
       "    <tr style=\"text-align: right;\">\n",
       "      <th></th>\n",
       "      <th>id</th>\n",
       "      <th>name</th>\n",
       "      <th>reason</th>\n",
       "      <th>adress</th>\n",
       "      <th>email</th>\n",
       "      <th>date</th>\n",
       "      <th>director</th>\n",
       "      <th>activo</th>\n",
       "      <th>dentrodelcamino</th>\n",
       "    </tr>\n",
       "  </thead>\n",
       "  <tbody>\n",
       "    <tr>\n",
       "      <th>0</th>\n",
       "      <td>1</td>\n",
       "      <td>111-222</td>\n",
       "      <td>111-222</td>\n",
       "      <td>111-222</td>\n",
       "      <td>111-222</td>\n",
       "      <td>2025-04-09 16:50:00</td>\n",
       "      <td>111-333</td>\n",
       "      <td>True</td>\n",
       "      <td>111-222</td>\n",
       "    </tr>\n",
       "    <tr>\n",
       "      <th>1</th>\n",
       "      <td>2</td>\n",
       "      <td>aaa-bbb</td>\n",
       "      <td>aaa-bbb</td>\n",
       "      <td>aaa-bbb</td>\n",
       "      <td>aaa-bbb</td>\n",
       "      <td>2025-04-11 17:55:00</td>\n",
       "      <td>aaa-bbb</td>\n",
       "      <td>True</td>\n",
       "      <td>aaa-ccc</td>\n",
       "    </tr>\n",
       "  </tbody>\n",
       "</table>\n",
       "</div>"
      ],
      "text/plain": [
       "   id     name   reason   adress    email                date director  \\\n",
       "0   1  111-222  111-222  111-222  111-222 2025-04-09 16:50:00  111-333   \n",
       "1   2  aaa-bbb  aaa-bbb  aaa-bbb  aaa-bbb 2025-04-11 17:55:00  aaa-bbb   \n",
       "\n",
       "   activo dentrodelcamino  \n",
       "0    True         111-222  \n",
       "1    True         aaa-ccc  "
      ]
     },
     "execution_count": 7,
     "metadata": {},
     "output_type": "execute_result"
    }
   ],
   "source": [
    "\n",
    "#df_concat = pd.concat([dfjackone, dfjacktwo,dfjohn,dfkaty], ignore_index=False)\n",
    "# Lista de DataFrames a combinar\n",
    "from functools import reduce\n",
    "\n",
    "dfs = [dfjackone, dfjacktwo, dfjohn, dfkaty]\n",
    "\n",
    "# Función para combinar dos DataFrames\n",
    "def merge_two(left, right):\n",
    "    return pd.merge(left, right, on='id', how='outer')\n",
    "\n",
    "# Combinación de todos los DataFrames\n",
    "df_concat = reduce(merge_two, dfs)\n",
    "\n",
    "#eliminar duplicados\n",
    "#df_concat = df_concat.drop_duplicates()\n",
    "df_concat = df_concat.drop_duplicates(subset=['id'])\n",
    "\n",
    "# Mostrar las primeras filas del DataFrame combinado\n",
    "df_concat.head()\n"
   ]
  },
  {
   "cell_type": "code",
   "execution_count": 8,
   "id": "c6bdd96d-b05e-4036-981c-52749fe70651",
   "metadata": {},
   "outputs": [],
   "source": [
    "#'dfjackone' in locals()\n"
   ]
  },
  {
   "cell_type": "code",
   "execution_count": 9,
   "id": "279c28c8-e128-4333-ba42-42660bb1324a",
   "metadata": {},
   "outputs": [
    {
     "data": {
      "text/plain": [
       "2"
      ]
     },
     "execution_count": 9,
     "metadata": {},
     "output_type": "execute_result"
    }
   ],
   "source": [
    "\n",
    "df_concat.to_sql(\n",
    "    name='tablacontodos',    # Nombre de la tabla en PostgreSQL\n",
    "    con=engine,              # Conexión a la base de datos\n",
    "    if_exists='append',      # Crea la tabla o la reemplaza si ya existe\n",
    "    index=False              # No incluir el índice de pandas como columna\n",
    ")\n"
   ]
  },
  {
   "cell_type": "code",
   "execution_count": 10,
   "id": "562957f1-b017-4d50-9d8f-f7e59b905ba6",
   "metadata": {
    "scrolled": true
   },
   "outputs": [
    {
     "name": "stdout",
     "output_type": "stream",
     "text": [
      "booleanexpression\n",
      "audittaskimpl\n",
      "bamtasksummary\n",
      "correlationkeyinfo\n",
      "casefiledatalog\n",
      "caseidinfo\n",
      "caseroleassignmentlog\n",
      "content\n",
      "contextmappinginfo\n",
      "deadline\n",
      "attachment\n",
      "delegation_delegates\n",
      "deploymentstore\n",
      "eventtypes\n",
      "errorinfo\n",
      "email_header\n",
      "executionerrorinfo\n",
      "i18ntext\n",
      "nodeinstancelog\n",
      "processinstancelog\n",
      "querydefinitionstore\n",
      "organizationalentity\n",
      "processinstanceinfo\n",
      "reassignment\n",
      "notification\n",
      "notification_bas\n",
      "notification_email_header\n",
      "notification_recipients\n",
      "peopleassignments_bas\n",
      "peopleassignments_exclowners\n",
      "peopleassignments_potowners\n",
      "peopleassignments_recipients\n",
      "peopleassignments_stakeholders\n",
      "reassignment_potentialowners\n",
      "sessioninfo\n",
      "requestinfo\n",
      "taskdef\n",
      "taskevent\n",
      "taskvariableimpl\n",
      "variableinstancelog\n",
      "workiteminfo\n",
      "task_comment\n",
      "task\n",
      "escalation\n",
      "correlationpropertyinfo\n",
      "entidad_global\n",
      "sector_privado\n",
      "tablados\n",
      "entityjackone\n",
      "entityjacktwo\n",
      "entityjohn\n",
      "entitykaty\n",
      "tablafinal\n",
      "Tablacompleta\n",
      "tablacontodos\n"
     ]
    }
   ],
   "source": [
    "from sqlalchemy import text\n",
    "\n",
    "with engine.connect() as connection:\n",
    "    result = connection.execute(text(\"SELECT table_name FROM information_schema.tables WHERE table_schema='public'\"))\n",
    "    for row in result:\n",
    "        print(row[0])\n"
   ]
  },
  {
   "cell_type": "code",
   "execution_count": null,
   "id": "57e59162-817e-4ccc-a89e-be4381d3869a",
   "metadata": {},
   "outputs": [],
   "source": [
    "\n"
   ]
  },
  {
   "cell_type": "code",
   "execution_count": 11,
   "id": "3e5c46fa-aef3-4dc5-920b-a695b5e153cd",
   "metadata": {
    "scrolled": true
   },
   "outputs": [
    {
     "data": {
      "text/html": [
       "<div>\n",
       "<style scoped>\n",
       "    .dataframe tbody tr th:only-of-type {\n",
       "        vertical-align: middle;\n",
       "    }\n",
       "\n",
       "    .dataframe tbody tr th {\n",
       "        vertical-align: top;\n",
       "    }\n",
       "\n",
       "    .dataframe thead th {\n",
       "        text-align: right;\n",
       "    }\n",
       "</style>\n",
       "<table border=\"1\" class=\"dataframe\">\n",
       "  <thead>\n",
       "    <tr style=\"text-align: right;\">\n",
       "      <th></th>\n",
       "      <th>id</th>\n",
       "      <th>name</th>\n",
       "      <th>reason</th>\n",
       "      <th>adress</th>\n",
       "      <th>email</th>\n",
       "      <th>date</th>\n",
       "      <th>director</th>\n",
       "      <th>activo</th>\n",
       "      <th>dentrodelcamino</th>\n",
       "    </tr>\n",
       "  </thead>\n",
       "  <tbody>\n",
       "    <tr>\n",
       "      <th>0</th>\n",
       "      <td>1</td>\n",
       "      <td>111-222</td>\n",
       "      <td>111-222</td>\n",
       "      <td>111-222</td>\n",
       "      <td>111-222</td>\n",
       "      <td>2025-04-09 16:50:00</td>\n",
       "      <td>111-333</td>\n",
       "      <td>True</td>\n",
       "      <td>111-222</td>\n",
       "    </tr>\n",
       "    <tr>\n",
       "      <th>1</th>\n",
       "      <td>2</td>\n",
       "      <td>aaa-bbb</td>\n",
       "      <td>aaa-bbb</td>\n",
       "      <td>aaa-bbb</td>\n",
       "      <td>aaa-bbb</td>\n",
       "      <td>2025-04-11 17:55:00</td>\n",
       "      <td>aaa-bbb</td>\n",
       "      <td>True</td>\n",
       "      <td>aaa-ccc</td>\n",
       "    </tr>\n",
       "    <tr>\n",
       "      <th>2</th>\n",
       "      <td>1</td>\n",
       "      <td>111-222</td>\n",
       "      <td>111-222</td>\n",
       "      <td>111-222</td>\n",
       "      <td>111-222</td>\n",
       "      <td>2025-04-09 16:50:00</td>\n",
       "      <td>111-333</td>\n",
       "      <td>True</td>\n",
       "      <td>111-222</td>\n",
       "    </tr>\n",
       "    <tr>\n",
       "      <th>3</th>\n",
       "      <td>2</td>\n",
       "      <td>aaa-bbb</td>\n",
       "      <td>aaa-bbb</td>\n",
       "      <td>aaa-bbb</td>\n",
       "      <td>aaa-bbb</td>\n",
       "      <td>2025-04-11 17:55:00</td>\n",
       "      <td>aaa-bbb</td>\n",
       "      <td>True</td>\n",
       "      <td>aaa-ccc</td>\n",
       "    </tr>\n",
       "  </tbody>\n",
       "</table>\n",
       "</div>"
      ],
      "text/plain": [
       "   id     name   reason   adress    email                date director  \\\n",
       "0   1  111-222  111-222  111-222  111-222 2025-04-09 16:50:00  111-333   \n",
       "1   2  aaa-bbb  aaa-bbb  aaa-bbb  aaa-bbb 2025-04-11 17:55:00  aaa-bbb   \n",
       "2   1  111-222  111-222  111-222  111-222 2025-04-09 16:50:00  111-333   \n",
       "3   2  aaa-bbb  aaa-bbb  aaa-bbb  aaa-bbb 2025-04-11 17:55:00  aaa-bbb   \n",
       "\n",
       "   activo dentrodelcamino  \n",
       "0    True         111-222  \n",
       "1    True         aaa-ccc  \n",
       "2    True         111-222  \n",
       "3    True         aaa-ccc  "
      ]
     },
     "execution_count": 11,
     "metadata": {},
     "output_type": "execute_result"
    }
   ],
   "source": [
    "\n",
    "df_verificacion = pd.read_sql('SELECT * FROM \"public\".\"tablacontodos\"', engine)\n",
    "df_verificacion.head()\n"
   ]
  },
  {
   "cell_type": "code",
   "execution_count": null,
   "id": "c13a10bd-8d33-431a-a17b-a695aeccaf32",
   "metadata": {},
   "outputs": [],
   "source": []
  }
 ],
 "metadata": {
  "kernelspec": {
   "display_name": "Python (jbpm-data)",
   "language": "python",
   "name": "jbpm-data"
  },
  "language_info": {
   "codemirror_mode": {
    "name": "ipython",
    "version": 3
   },
   "file_extension": ".py",
   "mimetype": "text/x-python",
   "name": "python",
   "nbconvert_exporter": "python",
   "pygments_lexer": "ipython3",
   "version": "3.9.6"
  }
 },
 "nbformat": 4,
 "nbformat_minor": 5
}
