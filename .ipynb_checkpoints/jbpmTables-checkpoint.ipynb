{
 "cells": [
  {
   "cell_type": "code",
   "execution_count": 2,
   "id": "c8a358bf-27af-4a7d-b6a0-786493779d3f",
   "metadata": {},
   "outputs": [],
   "source": [
    "#!pip install psycopg2-binary\n",
    "#!pip install pangres\n"
   ]
  },
  {
   "cell_type": "code",
   "execution_count": 3,
   "id": "c339411f-3c4b-43fa-8009-55816acb14a0",
   "metadata": {
    "scrolled": true
   },
   "outputs": [
    {
     "name": "stdout",
     "output_type": "stream",
     "text": [
      "('booleanexpression',)\n",
      "('audittaskimpl',)\n",
      "('bamtasksummary',)\n",
      "('correlationkeyinfo',)\n",
      "('casefiledatalog',)\n",
      "('caseidinfo',)\n",
      "('caseroleassignmentlog',)\n",
      "('content',)\n",
      "('contextmappinginfo',)\n",
      "('deadline',)\n",
      "('attachment',)\n",
      "('delegation_delegates',)\n",
      "('deploymentstore',)\n",
      "('eventtypes',)\n",
      "('errorinfo',)\n",
      "('email_header',)\n",
      "('executionerrorinfo',)\n",
      "('i18ntext',)\n",
      "('nodeinstancelog',)\n",
      "('processinstancelog',)\n",
      "('querydefinitionstore',)\n",
      "('organizationalentity',)\n",
      "('processinstanceinfo',)\n",
      "('reassignment',)\n",
      "('notification',)\n",
      "('notification_bas',)\n",
      "('notification_email_header',)\n",
      "('notification_recipients',)\n",
      "('peopleassignments_bas',)\n",
      "('peopleassignments_exclowners',)\n",
      "('peopleassignments_potowners',)\n",
      "('peopleassignments_recipients',)\n",
      "('peopleassignments_stakeholders',)\n",
      "('reassignment_potentialowners',)\n",
      "('sessioninfo',)\n",
      "('requestinfo',)\n",
      "('taskdef',)\n",
      "('taskevent',)\n",
      "('taskvariableimpl',)\n",
      "('variableinstancelog',)\n",
      "('workiteminfo',)\n",
      "('task_comment',)\n",
      "('task',)\n",
      "('escalation',)\n",
      "('correlationpropertyinfo',)\n",
      "('tablajackone',)\n",
      "('tablajacktwo',)\n",
      "('tablajohn',)\n",
      "('tablakaty',)\n",
      "('tablacontodos',)\n",
      "('temp_combined',)\n"
     ]
    }
   ],
   "source": [
    "from sqlalchemy import create_engine, text\n",
    "import pandas as pd\n",
    "\n",
    "# Parámetros de conexión\n",
    "user = 'jbpm'\n",
    "password = 'jbpm'\n",
    "host = 'localhost'\n",
    "port = '5432'\n",
    "database = 'jbpm'\n",
    "\n",
    "# conexión\n",
    "engine = create_engine(f'postgresql+psycopg2://{user}:{password}@{host}:{port}/{database}')\n",
    "\n",
    "# Probar conexión y listar tablas\n",
    "with engine.connect() as connection:\n",
    "    result = connection.execute(text(\"SELECT table_name FROM information_schema.tables WHERE table_schema='public'\"))\n",
    "    for row in result:\n",
    "        # Imprimir usando el índice de la tupla\n",
    "        #print(row[0])  # row[0] es el valor de la primera columna (table_name)\n",
    "        print(row)\n"
   ]
  },
  {
   "cell_type": "code",
   "execution_count": 4,
   "id": "b908278c-0374-4a7f-b1ac-d897888ef273",
   "metadata": {},
   "outputs": [],
   "source": [
    "# #CARGO TODAS las Tablas y las encierro en un try except para que me arroje mensaje de error\n",
    "# tablas = {\n",
    "#     'tablajackone': None,\n",
    "#     'tablajacktwo': None,\n",
    "#     'tablajohn': None,\n",
    "#     'tablakaty': None\n",
    "# }\n",
    "\n",
    "# try:\n",
    "#     for nombre_tabla in tablas:\n",
    "#         tablas[nombre_tabla] = pd.read_sql_table(nombre_tabla, con=engine)\n",
    "#     print(\"✅ Success: todas las tablas cargadas correctamente.\")\n",
    "    \n",
    "#  \n",
    "#     dfjackone = tablas['tablajackone']\n",
    "#     dfjacktwo = tablas['tablajacktwo']\n",
    "#     dfjohn = tablas['tablajohn']\n",
    "#     dfkaty = tablas['tablakaty']\n",
    "\n",
    "# except Exception as e:\n",
    "#     print(f\"❌ Error: no se pudo cargar la tabla '{nombre_tabla}'. Detalle del error: {e}\")\n"
   ]
  },
  {
   "cell_type": "code",
   "execution_count": 5,
   "id": "4c18901f-aee2-40f7-9b8f-f11360c54091",
   "metadata": {},
   "outputs": [
    {
     "data": {
      "text/html": [
       "<div>\n",
       "<style scoped>\n",
       "    .dataframe tbody tr th:only-of-type {\n",
       "        vertical-align: middle;\n",
       "    }\n",
       "\n",
       "    .dataframe tbody tr th {\n",
       "        vertical-align: top;\n",
       "    }\n",
       "\n",
       "    .dataframe thead th {\n",
       "        text-align: right;\n",
       "    }\n",
       "</style>\n",
       "<table border=\"1\" class=\"dataframe\">\n",
       "  <thead>\n",
       "    <tr style=\"text-align: right;\">\n",
       "      <th></th>\n",
       "      <th>id</th>\n",
       "      <th>lastname</th>\n",
       "      <th>name</th>\n",
       "    </tr>\n",
       "  </thead>\n",
       "  <tbody>\n",
       "    <tr>\n",
       "      <th>0</th>\n",
       "      <td>1</td>\n",
       "      <td>Moreno Hernandez</td>\n",
       "      <td>Danika</td>\n",
       "    </tr>\n",
       "    <tr>\n",
       "      <th>1</th>\n",
       "      <td>2</td>\n",
       "      <td>prueba-TAreas</td>\n",
       "      <td>Prueba-tarea</td>\n",
       "    </tr>\n",
       "    <tr>\n",
       "      <th>2</th>\n",
       "      <td>3</td>\n",
       "      <td>tercerregistro</td>\n",
       "      <td>tercerregistro</td>\n",
       "    </tr>\n",
       "    <tr>\n",
       "      <th>3</th>\n",
       "      <td>4</td>\n",
       "      <td>registros duplicados</td>\n",
       "      <td>registros duplicados</td>\n",
       "    </tr>\n",
       "    <tr>\n",
       "      <th>4</th>\n",
       "      <td>5</td>\n",
       "      <td>NO DUPLICADOS</td>\n",
       "      <td>NO DUPLICADOS</td>\n",
       "    </tr>\n",
       "  </tbody>\n",
       "</table>\n",
       "</div>"
      ],
      "text/plain": [
       "   id              lastname                  name\n",
       "0   1      Moreno Hernandez                Danika\n",
       "1   2         prueba-TAreas          Prueba-tarea\n",
       "2   3        tercerregistro        tercerregistro\n",
       "3   4  registros duplicados  registros duplicados\n",
       "4   5         NO DUPLICADOS         NO DUPLICADOS"
      ]
     },
     "execution_count": 5,
     "metadata": {},
     "output_type": "execute_result"
    }
   ],
   "source": [
    "#Cagrar todas las talass\n",
    "dfjackone = pd.read_sql_table('tablajackone', con=engine)\n",
    "dfjacktwo = pd.read_sql_table('tablajacktwo', con=engine)\n",
    "dfjohn = pd.read_sql_table('tablajohn', con=engine)\n",
    "dfkaty = pd.read_sql_table('tablakaty', con=engine)\n",
    "dfjackone.head()\n",
    "# dfjacktwo.head()\n",
    "# dfjohn.head()\n",
    "# df.katy.head()"
   ]
  },
  {
   "cell_type": "code",
   "execution_count": 6,
   "id": "a3b4ae6e-e547-49ee-849a-c44fe84cd01b",
   "metadata": {},
   "outputs": [
    {
     "name": "stdout",
     "output_type": "stream",
     "text": [
      "ℹ️ La tabla 'tablacontodos' ya existe. Continuando con el proceso...\n"
     ]
    }
   ],
   "source": [
    "from sqlalchemy import inspect\n",
    "import pandas as pd\n",
    "\n",
    "# Crear el inspector para leer la metadata de la base de datos\n",
    "inspector = inspect(engine)\n",
    "\n",
    "# Verificar si la tabla 'tablacontodos' existe\n",
    "if 'tablacontodos' not in inspector.get_table_names():\n",
    "    # Lista de tablas de origen\n",
    "    tablas_origen = ['tablajackone', 'tablajacktwo', 'tablakaty', 'tablajohn']\n",
    "\n",
    "    # Conjunto para guardar todos los nombres de columnas sin duplicados\n",
    "    todas_las_columnas = set()\n",
    "\n",
    "    # Iterar sobre cada tabla y obtener columnas\n",
    "    for tabla in tablas_origen:\n",
    "        columnas = [col['name'] for col in inspector.get_columns(tabla)]\n",
    "        todas_las_columnas.update(columnas)\n",
    "\n",
    "    # Lista de columnas deseadas\n",
    "    columnas_deseadas = ['id', 'lastname', 'name', 'comments', 'email', 'date', 'reason', 'activo', 'inside']\n",
    "\n",
    "    # Filtrar las columnas deseadas que están presentes en el conjunto\n",
    "    columnas_finales = [col for col in columnas_deseadas if col in todas_las_columnas]\n",
    "\n",
    "    # Crear un DataFrame vacío con las columnas deseadas\n",
    "    df_vacio = pd.DataFrame(columns=columnas_finales)\n",
    "\n",
    "    # Crear la tabla si no existe (vacía)\n",
    "    df_vacio.to_sql('tablacontodos', engine, if_exists='fail', index=False)\n",
    "\n",
    "    print(f\"✅ La tabla 'tablacontodos' se ha creado con estas columnas:\\n{columnas_finales}\")\n",
    "else:\n",
    "    print(\"ℹ️ La tabla 'tablacontodos' ya existe. Continuando con el proceso...\")\n"
   ]
  },
  {
   "cell_type": "code",
   "execution_count": 7,
   "id": "433bb5cf-cf96-4bef-9958-d875d4360c64",
   "metadata": {},
   "outputs": [
    {
     "data": {
      "text/html": [
       "<div>\n",
       "<style scoped>\n",
       "    .dataframe tbody tr th:only-of-type {\n",
       "        vertical-align: middle;\n",
       "    }\n",
       "\n",
       "    .dataframe tbody tr th {\n",
       "        vertical-align: top;\n",
       "    }\n",
       "\n",
       "    .dataframe thead th {\n",
       "        text-align: right;\n",
       "    }\n",
       "</style>\n",
       "<table border=\"1\" class=\"dataframe\">\n",
       "  <thead>\n",
       "    <tr style=\"text-align: right;\">\n",
       "      <th></th>\n",
       "      <th>activo</th>\n",
       "      <th>comments</th>\n",
       "      <th>date</th>\n",
       "      <th>email</th>\n",
       "      <th>id</th>\n",
       "      <th>inside</th>\n",
       "      <th>lastname</th>\n",
       "      <th>name</th>\n",
       "      <th>reason</th>\n",
       "    </tr>\n",
       "  </thead>\n",
       "  <tbody>\n",
       "  </tbody>\n",
       "</table>\n",
       "</div>"
      ],
      "text/plain": [
       "Empty DataFrame\n",
       "Columns: [activo, comments, date, email, id, inside, lastname, name, reason]\n",
       "Index: []"
      ]
     },
     "execution_count": 7,
     "metadata": {},
     "output_type": "execute_result"
    }
   ],
   "source": [
    "dfcont = pd.read_sql_table('tablacontodos', con=engine)\n",
    "dfcont.head()"
   ]
  },
  {
   "cell_type": "code",
   "execution_count": 8,
   "id": "cdde585c-efa1-4d27-8ffa-0b80fb2002de",
   "metadata": {},
   "outputs": [
    {
     "data": {
      "text/html": [
       "<div>\n",
       "<style scoped>\n",
       "    .dataframe tbody tr th:only-of-type {\n",
       "        vertical-align: middle;\n",
       "    }\n",
       "\n",
       "    .dataframe tbody tr th {\n",
       "        vertical-align: top;\n",
       "    }\n",
       "\n",
       "    .dataframe thead th {\n",
       "        text-align: right;\n",
       "    }\n",
       "</style>\n",
       "<table border=\"1\" class=\"dataframe\">\n",
       "  <thead>\n",
       "    <tr style=\"text-align: right;\">\n",
       "      <th></th>\n",
       "      <th>id</th>\n",
       "      <th>lastname</th>\n",
       "      <th>name</th>\n",
       "      <th>comments</th>\n",
       "      <th>email</th>\n",
       "      <th>date</th>\n",
       "      <th>reason</th>\n",
       "      <th>activo</th>\n",
       "      <th>inside</th>\n",
       "    </tr>\n",
       "  </thead>\n",
       "  <tbody>\n",
       "  </tbody>\n",
       "</table>\n",
       "</div>"
      ],
      "text/plain": [
       "Empty DataFrame\n",
       "Columns: [id, lastname, name, comments, email, date, reason, activo, inside]\n",
       "Index: []"
      ]
     },
     "execution_count": 8,
     "metadata": {},
     "output_type": "execute_result"
    }
   ],
   "source": [
    "df_combined = dfjackone.merge(dfjacktwo, on='id', how='outer') \\\n",
    "                       .merge(dfkaty, on='id', how='outer') \\\n",
    "                       .merge(dfjohn, on='id', how='outer')\n",
    "df_combined.head(0)"
   ]
  },
  {
   "cell_type": "code",
   "execution_count": 9,
   "id": "a67076e8-8e7c-4b89-8a13-390fb1bdf1f1",
   "metadata": {},
   "outputs": [],
   "source": [
    "#Eliminar duplicados\n",
    "df_combined.drop_duplicates(subset='id', keep='last', inplace=True)"
   ]
  },
  {
   "cell_type": "code",
   "execution_count": 10,
   "id": "4a676914-5666-4e40-a037-8345d2d44749",
   "metadata": {},
   "outputs": [],
   "source": [
    "#Cargar el dataFrame en una tabla temporal porque la quiero comparar con \"tablacontodos\" y hacerle un join\n",
    "def cargar_temporal(df_combined):\n",
    "  \n",
    "    df_combined.to_sql('temp_combined', engine, if_exists='replace', index=False)\n",
    "    print(\"Datos cargados en la tabla temporal 'temp_combined'.\")\n"
   ]
  },
  {
   "cell_type": "code",
   "execution_count": 11,
   "id": "c3e7592f-7ef6-4c0e-a538-f96bf9505e9d",
   "metadata": {},
   "outputs": [],
   "source": [
    "\n",
    "# #df_concat = pd.concat([dfjackone, dfjacktwo,dfjohn,dfkaty], ignore_index=False)\n",
    "# # Lista de DataFrames a combinar\n",
    "# from functools import reduce\n",
    "\n",
    "# dfs = [dfjackone, dfjacktwo, dfjohn, dfkaty]\n",
    "\n",
    "# # Función para combinar dos DataFrames\n",
    "# def merge_two(left, right):\n",
    "#     return pd.merge(left, right, on='id', how='outer')\n",
    "\n",
    "# # Combinación de todos los DataFrames\n",
    "# df_concat = reduce(merge_two, dfs)\n",
    "\n",
    "# #eliminar duplicados\n",
    "# #df_concat = df_concat.drop_duplicates()\n",
    "# df_concat = df_concat.drop_duplicates(subset=['id'])\n",
    "\n",
    "# # Mostrar las primeras filas del DataFrame combinado\n",
    "# df_concat.head()\n"
   ]
  },
  {
   "cell_type": "code",
   "execution_count": 12,
   "id": "0e65715e-0c56-476f-8692-4d338b480c54",
   "metadata": {},
   "outputs": [],
   "source": [
    "#hago mi funcion que haga el left join a la tablacontodos para ver registros que no coinciden\n",
    "def obtener_nuevos_registros():\n",
    "    # Consulta SQL \n",
    "    query = \"\"\"\n",
    "    SELECT *\n",
    "    FROM temp_combined AS t1\n",
    "    LEFT JOIN tablacontodos AS t2 ON CAST(t1.id AS int) = CAST(t2.id AS int)\n",
    "    WHERE t2.id IS NULL;\n",
    "    \"\"\"\n",
    "    nuevos_registros = pd.read_sql(query, engine)\n",
    "    return nuevos_registros\n"
   ]
  },
  {
   "cell_type": "code",
   "execution_count": 13,
   "id": "b3941fae-c5cf-48c6-b8eb-f11a0dff34c9",
   "metadata": {},
   "outputs": [],
   "source": [
    "#INSERTAR REGISTROS QUE se encuentran en df_combined pero no estan en tablacontodos ya que son los nuevos\n",
    "def insertar_nuevos_registros(nuevos_registros):\n",
    "    if not nuevos_registros.empty:\n",
    "        nuevos_registros.to_sql('tablacontodos', engine, if_exists='append', index=False)\n",
    "        print(f\"Se insertaron {len(nuevos_registros)} nuevos registros.\")\n",
    "    else:\n",
    "        print(\"No hay registros nuevos para insertar.\")\n"
   ]
  },
  {
   "cell_type": "code",
   "execution_count": 14,
   "id": "d25a5ba3-3540-4f0a-b111-57eea8f9d9c1",
   "metadata": {},
   "outputs": [
    {
     "name": "stdout",
     "output_type": "stream",
     "text": [
      "Datos cargados en la tabla temporal 'temp_combined'.\n"
     ]
    },
    {
     "ename": "DuplicateColumnError",
     "evalue": "A column with name 'activo' is already present in table 'tablacontodos'.",
     "output_type": "error",
     "traceback": [
      "\u001b[0;31m---------------------------------------------------------------------------\u001b[0m",
      "\u001b[0;31mDuplicateColumnError\u001b[0m                      Traceback (most recent call last)",
      "Cell \u001b[0;32mIn[14], line 12\u001b[0m\n\u001b[1;32m      9\u001b[0m     insertar_nuevos_registros(nuevos_registros)\n\u001b[1;32m     11\u001b[0m \u001b[38;5;66;03m# Llamar a la función con el DataFrame df_combined\u001b[39;00m\n\u001b[0;32m---> 12\u001b[0m \u001b[43mactualizar_tabla_con_db\u001b[49m\u001b[43m(\u001b[49m\u001b[43mdf_combined\u001b[49m\u001b[43m)\u001b[49m\n",
      "Cell \u001b[0;32mIn[14], line 9\u001b[0m, in \u001b[0;36mactualizar_tabla_con_db\u001b[0;34m(df_combined)\u001b[0m\n\u001b[1;32m      6\u001b[0m nuevos_registros \u001b[38;5;241m=\u001b[39m obtener_nuevos_registros()\n\u001b[1;32m      8\u001b[0m \u001b[38;5;66;03m# Insertar los nuevos registros en la tabla original\u001b[39;00m\n\u001b[0;32m----> 9\u001b[0m \u001b[43minsertar_nuevos_registros\u001b[49m\u001b[43m(\u001b[49m\u001b[43mnuevos_registros\u001b[49m\u001b[43m)\u001b[49m\n",
      "Cell \u001b[0;32mIn[13], line 4\u001b[0m, in \u001b[0;36minsertar_nuevos_registros\u001b[0;34m(nuevos_registros)\u001b[0m\n\u001b[1;32m      2\u001b[0m \u001b[38;5;28;01mdef\u001b[39;00m\u001b[38;5;250m \u001b[39m\u001b[38;5;21minsertar_nuevos_registros\u001b[39m(nuevos_registros):\n\u001b[1;32m      3\u001b[0m     \u001b[38;5;28;01mif\u001b[39;00m \u001b[38;5;129;01mnot\u001b[39;00m nuevos_registros\u001b[38;5;241m.\u001b[39mempty:\n\u001b[0;32m----> 4\u001b[0m         \u001b[43mnuevos_registros\u001b[49m\u001b[38;5;241;43m.\u001b[39;49m\u001b[43mto_sql\u001b[49m\u001b[43m(\u001b[49m\u001b[38;5;124;43m'\u001b[39;49m\u001b[38;5;124;43mtablacontodos\u001b[39;49m\u001b[38;5;124;43m'\u001b[39;49m\u001b[43m,\u001b[49m\u001b[43m \u001b[49m\u001b[43mengine\u001b[49m\u001b[43m,\u001b[49m\u001b[43m \u001b[49m\u001b[43mif_exists\u001b[49m\u001b[38;5;241;43m=\u001b[39;49m\u001b[38;5;124;43m'\u001b[39;49m\u001b[38;5;124;43mappend\u001b[39;49m\u001b[38;5;124;43m'\u001b[39;49m\u001b[43m,\u001b[49m\u001b[43m \u001b[49m\u001b[43mindex\u001b[49m\u001b[38;5;241;43m=\u001b[39;49m\u001b[38;5;28;43;01mFalse\u001b[39;49;00m\u001b[43m)\u001b[49m\n\u001b[1;32m      5\u001b[0m         \u001b[38;5;28mprint\u001b[39m(\u001b[38;5;124mf\u001b[39m\u001b[38;5;124m\"\u001b[39m\u001b[38;5;124mSe insertaron \u001b[39m\u001b[38;5;132;01m{\u001b[39;00m\u001b[38;5;28mlen\u001b[39m(nuevos_registros)\u001b[38;5;132;01m}\u001b[39;00m\u001b[38;5;124m nuevos registros.\u001b[39m\u001b[38;5;124m\"\u001b[39m)\n\u001b[1;32m      6\u001b[0m     \u001b[38;5;28;01melse\u001b[39;00m:\n",
      "File \u001b[0;32m~/jbpm-data/lib/python3.9/site-packages/pandas/util/_decorators.py:333\u001b[0m, in \u001b[0;36mdeprecate_nonkeyword_arguments.<locals>.decorate.<locals>.wrapper\u001b[0;34m(*args, **kwargs)\u001b[0m\n\u001b[1;32m    327\u001b[0m \u001b[38;5;28;01mif\u001b[39;00m \u001b[38;5;28mlen\u001b[39m(args) \u001b[38;5;241m>\u001b[39m num_allow_args:\n\u001b[1;32m    328\u001b[0m     warnings\u001b[38;5;241m.\u001b[39mwarn(\n\u001b[1;32m    329\u001b[0m         msg\u001b[38;5;241m.\u001b[39mformat(arguments\u001b[38;5;241m=\u001b[39m_format_argument_list(allow_args)),\n\u001b[1;32m    330\u001b[0m         \u001b[38;5;167;01mFutureWarning\u001b[39;00m,\n\u001b[1;32m    331\u001b[0m         stacklevel\u001b[38;5;241m=\u001b[39mfind_stack_level(),\n\u001b[1;32m    332\u001b[0m     )\n\u001b[0;32m--> 333\u001b[0m \u001b[38;5;28;01mreturn\u001b[39;00m \u001b[43mfunc\u001b[49m\u001b[43m(\u001b[49m\u001b[38;5;241;43m*\u001b[39;49m\u001b[43margs\u001b[49m\u001b[43m,\u001b[49m\u001b[43m \u001b[49m\u001b[38;5;241;43m*\u001b[39;49m\u001b[38;5;241;43m*\u001b[39;49m\u001b[43mkwargs\u001b[49m\u001b[43m)\u001b[49m\n",
      "File \u001b[0;32m~/jbpm-data/lib/python3.9/site-packages/pandas/core/generic.py:3087\u001b[0m, in \u001b[0;36mNDFrame.to_sql\u001b[0;34m(self, name, con, schema, if_exists, index, index_label, chunksize, dtype, method)\u001b[0m\n\u001b[1;32m   2889\u001b[0m \u001b[38;5;250m\u001b[39m\u001b[38;5;124;03m\"\"\"\u001b[39;00m\n\u001b[1;32m   2890\u001b[0m \u001b[38;5;124;03mWrite records stored in a DataFrame to a SQL database.\u001b[39;00m\n\u001b[1;32m   2891\u001b[0m \n\u001b[0;32m   (...)\u001b[0m\n\u001b[1;32m   3083\u001b[0m \u001b[38;5;124;03m[(1,), (None,), (2,)]\u001b[39;00m\n\u001b[1;32m   3084\u001b[0m \u001b[38;5;124;03m\"\"\"\u001b[39;00m  \u001b[38;5;66;03m# noqa: E501\u001b[39;00m\n\u001b[1;32m   3085\u001b[0m \u001b[38;5;28;01mfrom\u001b[39;00m\u001b[38;5;250m \u001b[39m\u001b[38;5;21;01mpandas\u001b[39;00m\u001b[38;5;21;01m.\u001b[39;00m\u001b[38;5;21;01mio\u001b[39;00m\u001b[38;5;250m \u001b[39m\u001b[38;5;28;01mimport\u001b[39;00m sql\n\u001b[0;32m-> 3087\u001b[0m \u001b[38;5;28;01mreturn\u001b[39;00m \u001b[43msql\u001b[49m\u001b[38;5;241;43m.\u001b[39;49m\u001b[43mto_sql\u001b[49m\u001b[43m(\u001b[49m\n\u001b[1;32m   3088\u001b[0m \u001b[43m    \u001b[49m\u001b[38;5;28;43mself\u001b[39;49m\u001b[43m,\u001b[49m\n\u001b[1;32m   3089\u001b[0m \u001b[43m    \u001b[49m\u001b[43mname\u001b[49m\u001b[43m,\u001b[49m\n\u001b[1;32m   3090\u001b[0m \u001b[43m    \u001b[49m\u001b[43mcon\u001b[49m\u001b[43m,\u001b[49m\n\u001b[1;32m   3091\u001b[0m \u001b[43m    \u001b[49m\u001b[43mschema\u001b[49m\u001b[38;5;241;43m=\u001b[39;49m\u001b[43mschema\u001b[49m\u001b[43m,\u001b[49m\n\u001b[1;32m   3092\u001b[0m \u001b[43m    \u001b[49m\u001b[43mif_exists\u001b[49m\u001b[38;5;241;43m=\u001b[39;49m\u001b[43mif_exists\u001b[49m\u001b[43m,\u001b[49m\n\u001b[1;32m   3093\u001b[0m \u001b[43m    \u001b[49m\u001b[43mindex\u001b[49m\u001b[38;5;241;43m=\u001b[39;49m\u001b[43mindex\u001b[49m\u001b[43m,\u001b[49m\n\u001b[1;32m   3094\u001b[0m \u001b[43m    \u001b[49m\u001b[43mindex_label\u001b[49m\u001b[38;5;241;43m=\u001b[39;49m\u001b[43mindex_label\u001b[49m\u001b[43m,\u001b[49m\n\u001b[1;32m   3095\u001b[0m \u001b[43m    \u001b[49m\u001b[43mchunksize\u001b[49m\u001b[38;5;241;43m=\u001b[39;49m\u001b[43mchunksize\u001b[49m\u001b[43m,\u001b[49m\n\u001b[1;32m   3096\u001b[0m \u001b[43m    \u001b[49m\u001b[43mdtype\u001b[49m\u001b[38;5;241;43m=\u001b[39;49m\u001b[43mdtype\u001b[49m\u001b[43m,\u001b[49m\n\u001b[1;32m   3097\u001b[0m \u001b[43m    \u001b[49m\u001b[43mmethod\u001b[49m\u001b[38;5;241;43m=\u001b[39;49m\u001b[43mmethod\u001b[49m\u001b[43m,\u001b[49m\n\u001b[1;32m   3098\u001b[0m \u001b[43m\u001b[49m\u001b[43m)\u001b[49m\n",
      "File \u001b[0;32m~/jbpm-data/lib/python3.9/site-packages/pandas/io/sql.py:842\u001b[0m, in \u001b[0;36mto_sql\u001b[0;34m(frame, name, con, schema, if_exists, index, index_label, chunksize, dtype, method, engine, **engine_kwargs)\u001b[0m\n\u001b[1;32m    837\u001b[0m     \u001b[38;5;28;01mraise\u001b[39;00m \u001b[38;5;167;01mNotImplementedError\u001b[39;00m(\n\u001b[1;32m    838\u001b[0m         \u001b[38;5;124m\"\u001b[39m\u001b[38;5;124m'\u001b[39m\u001b[38;5;124mframe\u001b[39m\u001b[38;5;124m'\u001b[39m\u001b[38;5;124m argument should be either a Series or a DataFrame\u001b[39m\u001b[38;5;124m\"\u001b[39m\n\u001b[1;32m    839\u001b[0m     )\n\u001b[1;32m    841\u001b[0m \u001b[38;5;28;01mwith\u001b[39;00m pandasSQL_builder(con, schema\u001b[38;5;241m=\u001b[39mschema, need_transaction\u001b[38;5;241m=\u001b[39m\u001b[38;5;28;01mTrue\u001b[39;00m) \u001b[38;5;28;01mas\u001b[39;00m pandas_sql:\n\u001b[0;32m--> 842\u001b[0m     \u001b[38;5;28;01mreturn\u001b[39;00m \u001b[43mpandas_sql\u001b[49m\u001b[38;5;241;43m.\u001b[39;49m\u001b[43mto_sql\u001b[49m\u001b[43m(\u001b[49m\n\u001b[1;32m    843\u001b[0m \u001b[43m        \u001b[49m\u001b[43mframe\u001b[49m\u001b[43m,\u001b[49m\n\u001b[1;32m    844\u001b[0m \u001b[43m        \u001b[49m\u001b[43mname\u001b[49m\u001b[43m,\u001b[49m\n\u001b[1;32m    845\u001b[0m \u001b[43m        \u001b[49m\u001b[43mif_exists\u001b[49m\u001b[38;5;241;43m=\u001b[39;49m\u001b[43mif_exists\u001b[49m\u001b[43m,\u001b[49m\n\u001b[1;32m    846\u001b[0m \u001b[43m        \u001b[49m\u001b[43mindex\u001b[49m\u001b[38;5;241;43m=\u001b[39;49m\u001b[43mindex\u001b[49m\u001b[43m,\u001b[49m\n\u001b[1;32m    847\u001b[0m \u001b[43m        \u001b[49m\u001b[43mindex_label\u001b[49m\u001b[38;5;241;43m=\u001b[39;49m\u001b[43mindex_label\u001b[49m\u001b[43m,\u001b[49m\n\u001b[1;32m    848\u001b[0m \u001b[43m        \u001b[49m\u001b[43mschema\u001b[49m\u001b[38;5;241;43m=\u001b[39;49m\u001b[43mschema\u001b[49m\u001b[43m,\u001b[49m\n\u001b[1;32m    849\u001b[0m \u001b[43m        \u001b[49m\u001b[43mchunksize\u001b[49m\u001b[38;5;241;43m=\u001b[39;49m\u001b[43mchunksize\u001b[49m\u001b[43m,\u001b[49m\n\u001b[1;32m    850\u001b[0m \u001b[43m        \u001b[49m\u001b[43mdtype\u001b[49m\u001b[38;5;241;43m=\u001b[39;49m\u001b[43mdtype\u001b[49m\u001b[43m,\u001b[49m\n\u001b[1;32m    851\u001b[0m \u001b[43m        \u001b[49m\u001b[43mmethod\u001b[49m\u001b[38;5;241;43m=\u001b[39;49m\u001b[43mmethod\u001b[49m\u001b[43m,\u001b[49m\n\u001b[1;32m    852\u001b[0m \u001b[43m        \u001b[49m\u001b[43mengine\u001b[49m\u001b[38;5;241;43m=\u001b[39;49m\u001b[43mengine\u001b[49m\u001b[43m,\u001b[49m\n\u001b[1;32m    853\u001b[0m \u001b[43m        \u001b[49m\u001b[38;5;241;43m*\u001b[39;49m\u001b[38;5;241;43m*\u001b[39;49m\u001b[43mengine_kwargs\u001b[49m\u001b[43m,\u001b[49m\n\u001b[1;32m    854\u001b[0m \u001b[43m    \u001b[49m\u001b[43m)\u001b[49m\n",
      "File \u001b[0;32m~/jbpm-data/lib/python3.9/site-packages/pandas/io/sql.py:2008\u001b[0m, in \u001b[0;36mSQLDatabase.to_sql\u001b[0;34m(self, frame, name, if_exists, index, index_label, schema, chunksize, dtype, method, engine, **engine_kwargs)\u001b[0m\n\u001b[1;32m   1958\u001b[0m \u001b[38;5;250m\u001b[39m\u001b[38;5;124;03m\"\"\"\u001b[39;00m\n\u001b[1;32m   1959\u001b[0m \u001b[38;5;124;03mWrite records stored in a DataFrame to a SQL database.\u001b[39;00m\n\u001b[1;32m   1960\u001b[0m \n\u001b[0;32m   (...)\u001b[0m\n\u001b[1;32m   2004\u001b[0m \u001b[38;5;124;03m    Any additional kwargs are passed to the engine.\u001b[39;00m\n\u001b[1;32m   2005\u001b[0m \u001b[38;5;124;03m\"\"\"\u001b[39;00m\n\u001b[1;32m   2006\u001b[0m sql_engine \u001b[38;5;241m=\u001b[39m get_engine(engine)\n\u001b[0;32m-> 2008\u001b[0m table \u001b[38;5;241m=\u001b[39m \u001b[38;5;28;43mself\u001b[39;49m\u001b[38;5;241;43m.\u001b[39;49m\u001b[43mprep_table\u001b[49m\u001b[43m(\u001b[49m\n\u001b[1;32m   2009\u001b[0m \u001b[43m    \u001b[49m\u001b[43mframe\u001b[49m\u001b[38;5;241;43m=\u001b[39;49m\u001b[43mframe\u001b[49m\u001b[43m,\u001b[49m\n\u001b[1;32m   2010\u001b[0m \u001b[43m    \u001b[49m\u001b[43mname\u001b[49m\u001b[38;5;241;43m=\u001b[39;49m\u001b[43mname\u001b[49m\u001b[43m,\u001b[49m\n\u001b[1;32m   2011\u001b[0m \u001b[43m    \u001b[49m\u001b[43mif_exists\u001b[49m\u001b[38;5;241;43m=\u001b[39;49m\u001b[43mif_exists\u001b[49m\u001b[43m,\u001b[49m\n\u001b[1;32m   2012\u001b[0m \u001b[43m    \u001b[49m\u001b[43mindex\u001b[49m\u001b[38;5;241;43m=\u001b[39;49m\u001b[43mindex\u001b[49m\u001b[43m,\u001b[49m\n\u001b[1;32m   2013\u001b[0m \u001b[43m    \u001b[49m\u001b[43mindex_label\u001b[49m\u001b[38;5;241;43m=\u001b[39;49m\u001b[43mindex_label\u001b[49m\u001b[43m,\u001b[49m\n\u001b[1;32m   2014\u001b[0m \u001b[43m    \u001b[49m\u001b[43mschema\u001b[49m\u001b[38;5;241;43m=\u001b[39;49m\u001b[43mschema\u001b[49m\u001b[43m,\u001b[49m\n\u001b[1;32m   2015\u001b[0m \u001b[43m    \u001b[49m\u001b[43mdtype\u001b[49m\u001b[38;5;241;43m=\u001b[39;49m\u001b[43mdtype\u001b[49m\u001b[43m,\u001b[49m\n\u001b[1;32m   2016\u001b[0m \u001b[43m\u001b[49m\u001b[43m)\u001b[49m\n\u001b[1;32m   2018\u001b[0m total_inserted \u001b[38;5;241m=\u001b[39m sql_engine\u001b[38;5;241m.\u001b[39minsert_records(\n\u001b[1;32m   2019\u001b[0m     table\u001b[38;5;241m=\u001b[39mtable,\n\u001b[1;32m   2020\u001b[0m     con\u001b[38;5;241m=\u001b[39m\u001b[38;5;28mself\u001b[39m\u001b[38;5;241m.\u001b[39mcon,\n\u001b[0;32m   (...)\u001b[0m\n\u001b[1;32m   2027\u001b[0m     \u001b[38;5;241m*\u001b[39m\u001b[38;5;241m*\u001b[39mengine_kwargs,\n\u001b[1;32m   2028\u001b[0m )\n\u001b[1;32m   2030\u001b[0m \u001b[38;5;28mself\u001b[39m\u001b[38;5;241m.\u001b[39mcheck_case_sensitive(name\u001b[38;5;241m=\u001b[39mname, schema\u001b[38;5;241m=\u001b[39mschema)\n",
      "File \u001b[0;32m~/jbpm-data/lib/python3.9/site-packages/pandas/io/sql.py:1902\u001b[0m, in \u001b[0;36mSQLDatabase.prep_table\u001b[0;34m(self, frame, name, if_exists, index, index_label, schema, dtype)\u001b[0m\n\u001b[1;32m   1899\u001b[0m         \u001b[38;5;28;01melse\u001b[39;00m:\n\u001b[1;32m   1900\u001b[0m             \u001b[38;5;28;01mraise\u001b[39;00m \u001b[38;5;167;01mValueError\u001b[39;00m(\u001b[38;5;124mf\u001b[39m\u001b[38;5;124m\"\u001b[39m\u001b[38;5;124mThe type of \u001b[39m\u001b[38;5;132;01m{\u001b[39;00mcol\u001b[38;5;132;01m}\u001b[39;00m\u001b[38;5;124m is not a SQLAlchemy type\u001b[39m\u001b[38;5;124m\"\u001b[39m)\n\u001b[0;32m-> 1902\u001b[0m table \u001b[38;5;241m=\u001b[39m \u001b[43mSQLTable\u001b[49m\u001b[43m(\u001b[49m\n\u001b[1;32m   1903\u001b[0m \u001b[43m    \u001b[49m\u001b[43mname\u001b[49m\u001b[43m,\u001b[49m\n\u001b[1;32m   1904\u001b[0m \u001b[43m    \u001b[49m\u001b[38;5;28;43mself\u001b[39;49m\u001b[43m,\u001b[49m\n\u001b[1;32m   1905\u001b[0m \u001b[43m    \u001b[49m\u001b[43mframe\u001b[49m\u001b[38;5;241;43m=\u001b[39;49m\u001b[43mframe\u001b[49m\u001b[43m,\u001b[49m\n\u001b[1;32m   1906\u001b[0m \u001b[43m    \u001b[49m\u001b[43mindex\u001b[49m\u001b[38;5;241;43m=\u001b[39;49m\u001b[43mindex\u001b[49m\u001b[43m,\u001b[49m\n\u001b[1;32m   1907\u001b[0m \u001b[43m    \u001b[49m\u001b[43mif_exists\u001b[49m\u001b[38;5;241;43m=\u001b[39;49m\u001b[43mif_exists\u001b[49m\u001b[43m,\u001b[49m\n\u001b[1;32m   1908\u001b[0m \u001b[43m    \u001b[49m\u001b[43mindex_label\u001b[49m\u001b[38;5;241;43m=\u001b[39;49m\u001b[43mindex_label\u001b[49m\u001b[43m,\u001b[49m\n\u001b[1;32m   1909\u001b[0m \u001b[43m    \u001b[49m\u001b[43mschema\u001b[49m\u001b[38;5;241;43m=\u001b[39;49m\u001b[43mschema\u001b[49m\u001b[43m,\u001b[49m\n\u001b[1;32m   1910\u001b[0m \u001b[43m    \u001b[49m\u001b[43mdtype\u001b[49m\u001b[38;5;241;43m=\u001b[39;49m\u001b[43mdtype\u001b[49m\u001b[43m,\u001b[49m\n\u001b[1;32m   1911\u001b[0m \u001b[43m\u001b[49m\u001b[43m)\u001b[49m\n\u001b[1;32m   1912\u001b[0m table\u001b[38;5;241m.\u001b[39mcreate()\n\u001b[1;32m   1913\u001b[0m \u001b[38;5;28;01mreturn\u001b[39;00m table\n",
      "File \u001b[0;32m~/jbpm-data/lib/python3.9/site-packages/pandas/io/sql.py:958\u001b[0m, in \u001b[0;36mSQLTable.__init__\u001b[0;34m(self, name, pandas_sql_engine, frame, index, if_exists, prefix, index_label, schema, keys, dtype)\u001b[0m\n\u001b[1;32m    954\u001b[0m \u001b[38;5;28mself\u001b[39m\u001b[38;5;241m.\u001b[39mdtype \u001b[38;5;241m=\u001b[39m dtype\n\u001b[1;32m    956\u001b[0m \u001b[38;5;28;01mif\u001b[39;00m frame \u001b[38;5;129;01mis\u001b[39;00m \u001b[38;5;129;01mnot\u001b[39;00m \u001b[38;5;28;01mNone\u001b[39;00m:\n\u001b[1;32m    957\u001b[0m     \u001b[38;5;66;03m# We want to initialize based on a dataframe\u001b[39;00m\n\u001b[0;32m--> 958\u001b[0m     \u001b[38;5;28mself\u001b[39m\u001b[38;5;241m.\u001b[39mtable \u001b[38;5;241m=\u001b[39m \u001b[38;5;28;43mself\u001b[39;49m\u001b[38;5;241;43m.\u001b[39;49m\u001b[43m_create_table_setup\u001b[49m\u001b[43m(\u001b[49m\u001b[43m)\u001b[49m\n\u001b[1;32m    959\u001b[0m \u001b[38;5;28;01melse\u001b[39;00m:\n\u001b[1;32m    960\u001b[0m     \u001b[38;5;66;03m# no data provided, read-only mode\u001b[39;00m\n\u001b[1;32m    961\u001b[0m     \u001b[38;5;28mself\u001b[39m\u001b[38;5;241m.\u001b[39mtable \u001b[38;5;241m=\u001b[39m \u001b[38;5;28mself\u001b[39m\u001b[38;5;241m.\u001b[39mpd_sql\u001b[38;5;241m.\u001b[39mget_table(\u001b[38;5;28mself\u001b[39m\u001b[38;5;241m.\u001b[39mname, \u001b[38;5;28mself\u001b[39m\u001b[38;5;241m.\u001b[39mschema)\n",
      "File \u001b[0;32m~/jbpm-data/lib/python3.9/site-packages/pandas/io/sql.py:1285\u001b[0m, in \u001b[0;36mSQLTable._create_table_setup\u001b[0;34m(self)\u001b[0m\n\u001b[1;32m   1282\u001b[0m \u001b[38;5;66;03m# At this point, attach to new metadata, only attach to self.meta\u001b[39;00m\n\u001b[1;32m   1283\u001b[0m \u001b[38;5;66;03m# once table is created.\u001b[39;00m\n\u001b[1;32m   1284\u001b[0m meta \u001b[38;5;241m=\u001b[39m MetaData()\n\u001b[0;32m-> 1285\u001b[0m \u001b[38;5;28;01mreturn\u001b[39;00m \u001b[43mTable\u001b[49m\u001b[43m(\u001b[49m\u001b[38;5;28;43mself\u001b[39;49m\u001b[38;5;241;43m.\u001b[39;49m\u001b[43mname\u001b[49m\u001b[43m,\u001b[49m\u001b[43m \u001b[49m\u001b[43mmeta\u001b[49m\u001b[43m,\u001b[49m\u001b[43m \u001b[49m\u001b[38;5;241;43m*\u001b[39;49m\u001b[43mcolumns\u001b[49m\u001b[43m,\u001b[49m\u001b[43m \u001b[49m\u001b[43mschema\u001b[49m\u001b[38;5;241;43m=\u001b[39;49m\u001b[43mschema\u001b[49m\u001b[43m)\u001b[49m\n",
      "File \u001b[0;32m<string>:2\u001b[0m, in \u001b[0;36m__new__\u001b[0;34m(cls, *args, **kw)\u001b[0m\n",
      "File \u001b[0;32m~/jbpm-data/lib/python3.9/site-packages/sqlalchemy/util/deprecations.py:281\u001b[0m, in \u001b[0;36mdeprecated_params.<locals>.decorate.<locals>.warned\u001b[0;34m(fn, *args, **kwargs)\u001b[0m\n\u001b[1;32m    274\u001b[0m     \u001b[38;5;28;01mif\u001b[39;00m m \u001b[38;5;129;01min\u001b[39;00m kwargs:\n\u001b[1;32m    275\u001b[0m         _warn_with_version(\n\u001b[1;32m    276\u001b[0m             messages[m],\n\u001b[1;32m    277\u001b[0m             versions[m],\n\u001b[1;32m    278\u001b[0m             version_warnings[m],\n\u001b[1;32m    279\u001b[0m             stacklevel\u001b[38;5;241m=\u001b[39m\u001b[38;5;241m3\u001b[39m,\n\u001b[1;32m    280\u001b[0m         )\n\u001b[0;32m--> 281\u001b[0m \u001b[38;5;28;01mreturn\u001b[39;00m \u001b[43mfn\u001b[49m\u001b[43m(\u001b[49m\u001b[38;5;241;43m*\u001b[39;49m\u001b[43margs\u001b[49m\u001b[43m,\u001b[49m\u001b[43m \u001b[49m\u001b[38;5;241;43m*\u001b[39;49m\u001b[38;5;241;43m*\u001b[39;49m\u001b[43mkwargs\u001b[49m\u001b[43m)\u001b[49m\n",
      "File \u001b[0;32m~/jbpm-data/lib/python3.9/site-packages/sqlalchemy/sql/schema.py:430\u001b[0m, in \u001b[0;36mTable.__new__\u001b[0;34m(cls, *args, **kw)\u001b[0m\n\u001b[1;32m    423\u001b[0m \u001b[38;5;129m@util\u001b[39m\u001b[38;5;241m.\u001b[39mdeprecated_params(\n\u001b[1;32m    424\u001b[0m     mustexist\u001b[38;5;241m=\u001b[39m(\n\u001b[1;32m    425\u001b[0m         \u001b[38;5;124m\"\u001b[39m\u001b[38;5;124m1.4\u001b[39m\u001b[38;5;124m\"\u001b[39m,\n\u001b[0;32m   (...)\u001b[0m\n\u001b[1;32m    428\u001b[0m )\n\u001b[1;32m    429\u001b[0m \u001b[38;5;28;01mdef\u001b[39;00m\u001b[38;5;250m \u001b[39m\u001b[38;5;21m__new__\u001b[39m(\u001b[38;5;28mcls\u001b[39m, \u001b[38;5;241m*\u001b[39margs: Any, \u001b[38;5;241m*\u001b[39m\u001b[38;5;241m*\u001b[39mkw: Any) \u001b[38;5;241m-\u001b[39m\u001b[38;5;241m>\u001b[39m Any:\n\u001b[0;32m--> 430\u001b[0m     \u001b[38;5;28;01mreturn\u001b[39;00m \u001b[38;5;28;43mcls\u001b[39;49m\u001b[38;5;241;43m.\u001b[39;49m\u001b[43m_new\u001b[49m\u001b[43m(\u001b[49m\u001b[38;5;241;43m*\u001b[39;49m\u001b[43margs\u001b[49m\u001b[43m,\u001b[49m\u001b[43m \u001b[49m\u001b[38;5;241;43m*\u001b[39;49m\u001b[38;5;241;43m*\u001b[39;49m\u001b[43mkw\u001b[49m\u001b[43m)\u001b[49m\n",
      "File \u001b[0;32m~/jbpm-data/lib/python3.9/site-packages/sqlalchemy/sql/schema.py:485\u001b[0m, in \u001b[0;36mTable._new\u001b[0;34m(cls, *args, **kw)\u001b[0m\n\u001b[1;32m    483\u001b[0m \u001b[38;5;28;01mexcept\u001b[39;00m \u001b[38;5;167;01mException\u001b[39;00m:\n\u001b[1;32m    484\u001b[0m     \u001b[38;5;28;01mwith\u001b[39;00m util\u001b[38;5;241m.\u001b[39msafe_reraise():\n\u001b[0;32m--> 485\u001b[0m         metadata\u001b[38;5;241m.\u001b[39m_remove_table(name, schema)\n",
      "File \u001b[0;32m~/jbpm-data/lib/python3.9/site-packages/sqlalchemy/util/langhelpers.py:146\u001b[0m, in \u001b[0;36msafe_reraise.__exit__\u001b[0;34m(self, type_, value, traceback)\u001b[0m\n\u001b[1;32m    144\u001b[0m     \u001b[38;5;28;01massert\u001b[39;00m exc_value \u001b[38;5;129;01mis\u001b[39;00m \u001b[38;5;129;01mnot\u001b[39;00m \u001b[38;5;28;01mNone\u001b[39;00m\n\u001b[1;32m    145\u001b[0m     \u001b[38;5;28mself\u001b[39m\u001b[38;5;241m.\u001b[39m_exc_info \u001b[38;5;241m=\u001b[39m \u001b[38;5;28;01mNone\u001b[39;00m  \u001b[38;5;66;03m# remove potential circular references\u001b[39;00m\n\u001b[0;32m--> 146\u001b[0m     \u001b[38;5;28;01mraise\u001b[39;00m exc_value\u001b[38;5;241m.\u001b[39mwith_traceback(exc_tb)\n\u001b[1;32m    147\u001b[0m \u001b[38;5;28;01melse\u001b[39;00m:\n\u001b[1;32m    148\u001b[0m     \u001b[38;5;28mself\u001b[39m\u001b[38;5;241m.\u001b[39m_exc_info \u001b[38;5;241m=\u001b[39m \u001b[38;5;28;01mNone\u001b[39;00m  \u001b[38;5;66;03m# remove potential circular references\u001b[39;00m\n",
      "File \u001b[0;32m~/jbpm-data/lib/python3.9/site-packages/sqlalchemy/sql/schema.py:480\u001b[0m, in \u001b[0;36mTable._new\u001b[0;34m(cls, *args, **kw)\u001b[0m\n\u001b[1;32m    478\u001b[0m metadata\u001b[38;5;241m.\u001b[39m_add_table(name, schema, table)\n\u001b[1;32m    479\u001b[0m \u001b[38;5;28;01mtry\u001b[39;00m:\n\u001b[0;32m--> 480\u001b[0m     \u001b[43mtable\u001b[49m\u001b[38;5;241;43m.\u001b[39;49m\u001b[38;5;21;43m__init__\u001b[39;49m\u001b[43m(\u001b[49m\u001b[43mname\u001b[49m\u001b[43m,\u001b[49m\u001b[43m \u001b[49m\u001b[43mmetadata\u001b[49m\u001b[43m,\u001b[49m\u001b[43m \u001b[49m\u001b[38;5;241;43m*\u001b[39;49m\u001b[43margs\u001b[49m\u001b[43m,\u001b[49m\u001b[43m \u001b[49m\u001b[43m_no_init\u001b[49m\u001b[38;5;241;43m=\u001b[39;49m\u001b[38;5;28;43;01mFalse\u001b[39;49;00m\u001b[43m,\u001b[49m\u001b[43m \u001b[49m\u001b[38;5;241;43m*\u001b[39;49m\u001b[38;5;241;43m*\u001b[39;49m\u001b[43mkw\u001b[49m\u001b[43m)\u001b[49m\n\u001b[1;32m    481\u001b[0m     table\u001b[38;5;241m.\u001b[39mdispatch\u001b[38;5;241m.\u001b[39mafter_parent_attach(table, metadata)\n\u001b[1;32m    482\u001b[0m     \u001b[38;5;28;01mreturn\u001b[39;00m table\n",
      "File \u001b[0;32m~/jbpm-data/lib/python3.9/site-packages/sqlalchemy/sql/schema.py:874\u001b[0m, in \u001b[0;36mTable.__init__\u001b[0;34m(self, name, metadata, schema, quote, quote_schema, autoload_with, autoload_replace, keep_existing, extend_existing, resolve_fks, include_columns, implicit_returning, comment, info, listeners, prefixes, _extend_on, _no_init, *args, **kw)\u001b[0m\n\u001b[1;32m    862\u001b[0m     \u001b[38;5;28mself\u001b[39m\u001b[38;5;241m.\u001b[39m_autoload(\n\u001b[1;32m    863\u001b[0m         metadata,\n\u001b[1;32m    864\u001b[0m         autoload_with,\n\u001b[0;32m   (...)\u001b[0m\n\u001b[1;32m    868\u001b[0m         resolve_fks\u001b[38;5;241m=\u001b[39mresolve_fks,\n\u001b[1;32m    869\u001b[0m     )\n\u001b[1;32m    871\u001b[0m \u001b[38;5;66;03m# initialize all the column, etc. objects.  done after reflection to\u001b[39;00m\n\u001b[1;32m    872\u001b[0m \u001b[38;5;66;03m# allow user-overrides\u001b[39;00m\n\u001b[0;32m--> 874\u001b[0m \u001b[38;5;28;43mself\u001b[39;49m\u001b[38;5;241;43m.\u001b[39;49m\u001b[43m_init_items\u001b[49m\u001b[43m(\u001b[49m\n\u001b[1;32m    875\u001b[0m \u001b[43m    \u001b[49m\u001b[38;5;241;43m*\u001b[39;49m\u001b[43margs\u001b[49m\u001b[43m,\u001b[49m\n\u001b[1;32m    876\u001b[0m \u001b[43m    \u001b[49m\u001b[43mallow_replacements\u001b[49m\u001b[38;5;241;43m=\u001b[39;49m\u001b[43mextend_existing\u001b[49m\n\u001b[1;32m    877\u001b[0m \u001b[43m    \u001b[49m\u001b[38;5;129;43;01mor\u001b[39;49;00m\u001b[43m \u001b[49m\u001b[43mkeep_existing\u001b[49m\n\u001b[1;32m    878\u001b[0m \u001b[43m    \u001b[49m\u001b[38;5;129;43;01mor\u001b[39;49;00m\u001b[43m \u001b[49m\u001b[43mautoload_with\u001b[49m\u001b[43m,\u001b[49m\n\u001b[1;32m    879\u001b[0m \u001b[43m    \u001b[49m\u001b[43mall_names\u001b[49m\u001b[38;5;241;43m=\u001b[39;49m\u001b[43m{\u001b[49m\u001b[43m}\u001b[49m\u001b[43m,\u001b[49m\n\u001b[1;32m    880\u001b[0m \u001b[43m\u001b[49m\u001b[43m)\u001b[49m\n",
      "File \u001b[0;32m~/jbpm-data/lib/python3.9/site-packages/sqlalchemy/sql/schema.py:234\u001b[0m, in \u001b[0;36mSchemaItem._init_items\u001b[0;34m(self, *args, **kw)\u001b[0m\n\u001b[1;32m    229\u001b[0m     \u001b[38;5;28;01mraise\u001b[39;00m exc\u001b[38;5;241m.\u001b[39mArgumentError(\n\u001b[1;32m    230\u001b[0m         \u001b[38;5;124m\"\u001b[39m\u001b[38;5;124m'\u001b[39m\u001b[38;5;124mSchemaItem\u001b[39m\u001b[38;5;124m'\u001b[39m\u001b[38;5;124m object, such as a \u001b[39m\u001b[38;5;124m'\u001b[39m\u001b[38;5;124mColumn\u001b[39m\u001b[38;5;124m'\u001b[39m\u001b[38;5;124m or a \u001b[39m\u001b[38;5;124m\"\u001b[39m\n\u001b[1;32m    231\u001b[0m         \u001b[38;5;124mf\u001b[39m\u001b[38;5;124m\"\u001b[39m\u001b[38;5;124m'\u001b[39m\u001b[38;5;124mConstraint\u001b[39m\u001b[38;5;124m'\u001b[39m\u001b[38;5;124m expected, got \u001b[39m\u001b[38;5;132;01m{\u001b[39;00mitem\u001b[38;5;132;01m!r}\u001b[39;00m\u001b[38;5;124m\"\u001b[39m\n\u001b[1;32m    232\u001b[0m     ) \u001b[38;5;28;01mfrom\u001b[39;00m\u001b[38;5;250m \u001b[39m\u001b[38;5;21;01merr\u001b[39;00m\n\u001b[1;32m    233\u001b[0m \u001b[38;5;28;01melse\u001b[39;00m:\n\u001b[0;32m--> 234\u001b[0m     \u001b[43mspwd\u001b[49m\u001b[43m(\u001b[49m\u001b[38;5;28;43mself\u001b[39;49m\u001b[43m,\u001b[49m\u001b[43m \u001b[49m\u001b[38;5;241;43m*\u001b[39;49m\u001b[38;5;241;43m*\u001b[39;49m\u001b[43mkw\u001b[49m\u001b[43m)\u001b[49m\n",
      "File \u001b[0;32m~/jbpm-data/lib/python3.9/site-packages/sqlalchemy/sql/base.py:1324\u001b[0m, in \u001b[0;36mSchemaEventTarget._set_parent_with_dispatch\u001b[0;34m(self, parent, **kw)\u001b[0m\n\u001b[1;32m   1320\u001b[0m \u001b[38;5;28;01mdef\u001b[39;00m\u001b[38;5;250m \u001b[39m\u001b[38;5;21m_set_parent_with_dispatch\u001b[39m(\n\u001b[1;32m   1321\u001b[0m     \u001b[38;5;28mself\u001b[39m, parent: SchemaEventTarget, \u001b[38;5;241m*\u001b[39m\u001b[38;5;241m*\u001b[39mkw: Any\n\u001b[1;32m   1322\u001b[0m ) \u001b[38;5;241m-\u001b[39m\u001b[38;5;241m>\u001b[39m \u001b[38;5;28;01mNone\u001b[39;00m:\n\u001b[1;32m   1323\u001b[0m     \u001b[38;5;28mself\u001b[39m\u001b[38;5;241m.\u001b[39mdispatch\u001b[38;5;241m.\u001b[39mbefore_parent_attach(\u001b[38;5;28mself\u001b[39m, parent)\n\u001b[0;32m-> 1324\u001b[0m     \u001b[38;5;28;43mself\u001b[39;49m\u001b[38;5;241;43m.\u001b[39;49m\u001b[43m_set_parent\u001b[49m\u001b[43m(\u001b[49m\u001b[43mparent\u001b[49m\u001b[43m,\u001b[49m\u001b[43m \u001b[49m\u001b[38;5;241;43m*\u001b[39;49m\u001b[38;5;241;43m*\u001b[39;49m\u001b[43mkw\u001b[49m\u001b[43m)\u001b[49m\n\u001b[1;32m   1325\u001b[0m     \u001b[38;5;28mself\u001b[39m\u001b[38;5;241m.\u001b[39mdispatch\u001b[38;5;241m.\u001b[39mafter_parent_attach(\u001b[38;5;28mself\u001b[39m, parent)\n",
      "File \u001b[0;32m~/jbpm-data/lib/python3.9/site-packages/sqlalchemy/sql/schema.py:2360\u001b[0m, in \u001b[0;36mColumn._set_parent\u001b[0;34m(self, parent, all_names, allow_replacements, **kw)\u001b[0m\n\u001b[1;32m   2358\u001b[0m \u001b[38;5;28;01mif\u001b[39;00m existing_col \u001b[38;5;129;01mis\u001b[39;00m \u001b[38;5;129;01mnot\u001b[39;00m \u001b[38;5;28mself\u001b[39m:\n\u001b[1;32m   2359\u001b[0m     \u001b[38;5;28;01mif\u001b[39;00m \u001b[38;5;129;01mnot\u001b[39;00m allow_replacements:\n\u001b[0;32m-> 2360\u001b[0m         \u001b[38;5;28;01mraise\u001b[39;00m exc\u001b[38;5;241m.\u001b[39mDuplicateColumnError(\n\u001b[1;32m   2361\u001b[0m             \u001b[38;5;124mf\u001b[39m\u001b[38;5;124m\"\u001b[39m\u001b[38;5;124mA column with \u001b[39m\u001b[38;5;132;01m{\u001b[39;00mconflicts_on\u001b[38;5;132;01m}\u001b[39;00m\u001b[38;5;124m \u001b[39m\u001b[38;5;124m\"\u001b[39m\n\u001b[1;32m   2362\u001b[0m             \u001b[38;5;124mf\u001b[39m\u001b[38;5;124m\"\"\"\u001b[39m\u001b[38;5;124m'\u001b[39m\u001b[38;5;132;01m{\u001b[39;00m\n\u001b[1;32m   2363\u001b[0m \u001b[38;5;250m                \u001b[39m\u001b[38;5;28mself\u001b[39m\u001b[38;5;241m.\u001b[39mkey\u001b[38;5;250m \u001b[39m\u001b[38;5;28;01mif\u001b[39;00m\u001b[38;5;250m \u001b[39mconflicts_on\u001b[38;5;250m \u001b[39m\u001b[38;5;241m==\u001b[39m\u001b[38;5;250m \u001b[39m\u001b[38;5;124m'\u001b[39m\u001b[38;5;124mkey\u001b[39m\u001b[38;5;124m'\u001b[39m\u001b[38;5;250m \u001b[39m\u001b[38;5;28;01melse\u001b[39;00m\u001b[38;5;250m \u001b[39m\u001b[38;5;28mself\u001b[39m\u001b[38;5;241m.\u001b[39mname\n\u001b[1;32m   2364\u001b[0m \u001b[38;5;250m            \u001b[39m\u001b[38;5;132;01m}\u001b[39;00m\u001b[38;5;124m'\u001b[39m\u001b[38;5;124m \u001b[39m\u001b[38;5;124m\"\"\"\u001b[39m\n\u001b[1;32m   2365\u001b[0m             \u001b[38;5;124mf\u001b[39m\u001b[38;5;124m\"\u001b[39m\u001b[38;5;124mis already present in table \u001b[39m\u001b[38;5;124m'\u001b[39m\u001b[38;5;132;01m{\u001b[39;00mtable\u001b[38;5;241m.\u001b[39mname\u001b[38;5;132;01m}\u001b[39;00m\u001b[38;5;124m'\u001b[39m\u001b[38;5;124m.\u001b[39m\u001b[38;5;124m\"\u001b[39m\n\u001b[1;32m   2366\u001b[0m         )\n\u001b[1;32m   2367\u001b[0m     \u001b[38;5;28;01mfor\u001b[39;00m fk \u001b[38;5;129;01min\u001b[39;00m existing_col\u001b[38;5;241m.\u001b[39mforeign_keys:\n\u001b[1;32m   2368\u001b[0m         table\u001b[38;5;241m.\u001b[39mforeign_keys\u001b[38;5;241m.\u001b[39mremove(fk)\n",
      "\u001b[0;31mDuplicateColumnError\u001b[0m: A column with name 'activo' is already present in table 'tablacontodos'."
     ]
    }
   ],
   "source": [
    "def actualizar_tabla_con_db(df_combined):\n",
    "    # Cargar datos en la tabla temporal\n",
    "    cargar_temporal(df_combined)\n",
    "\n",
    "    # Obtener los nuevos registros que no están en la tabla tablacontodos\n",
    "    nuevos_registros = obtener_nuevos_registros()\n",
    "\n",
    "    # Insertar los nuevos registros en la tabla original\n",
    "    insertar_nuevos_registros(nuevos_registros)\n",
    "\n",
    "# Llamar a la función con el DataFrame df_combined\n",
    "actualizar_tabla_con_db(df_combined)\n"
   ]
  },
  {
   "cell_type": "code",
   "execution_count": null,
   "id": "12852bfe-cd72-45f9-bf7b-014a41f3e981",
   "metadata": {},
   "outputs": [],
   "source": [
    "#dfjackone = pd.read_sql(\"SELECT * FROM tablajackone\", engine)\n",
    "#dfjackone.head()\n"
   ]
  },
  {
   "cell_type": "code",
   "execution_count": null,
   "id": "7591759b-76fd-44f0-9c35-7b9e468da13c",
   "metadata": {},
   "outputs": [],
   "source": [
    "#dfjacktwo = pd.read_sql(\"SELECT * FROM tablajacktwo\", engine)\n",
    "#dfjacktwo.head()\n"
   ]
  },
  {
   "cell_type": "code",
   "execution_count": null,
   "id": "daca6fde-def8-4cf5-ac81-5078e8704e62",
   "metadata": {},
   "outputs": [],
   "source": [
    "#dfjohn = pd.read_sql(\"SELECT * FROM tablajohn\", engine)\n",
    "#dfjohn.head()\n"
   ]
  },
  {
   "cell_type": "code",
   "execution_count": null,
   "id": "9701f053-1eb0-4c3f-b657-52515aa7b7e3",
   "metadata": {},
   "outputs": [],
   "source": [
    "#dfkaty= pd.read_sql(\"SELECT * FROM tablakaty\", engine)\n",
    "#dfkaty.head()\n"
   ]
  },
  {
   "cell_type": "code",
   "execution_count": null,
   "id": "c6bdd96d-b05e-4036-981c-52749fe70651",
   "metadata": {},
   "outputs": [],
   "source": [
    "#Ver si se encuentra en variables locales\n",
    "#'dfjackone' in locals()\n"
   ]
  },
  {
   "cell_type": "code",
   "execution_count": null,
   "id": "279c28c8-e128-4333-ba42-42660bb1324a",
   "metadata": {},
   "outputs": [],
   "source": [
    "# #Actualizar y crear la tablacontodos\n",
    "# df_combined.to_sql(\n",
    "#     name='tablacontodos',    # Nombre de la tabla en PostgreSQL\n",
    "#     con=engine,              # Conexión a la base de datos\n",
    "#     if_exists='append',      # Crea la tabla o la reemplaza si ya existe\n",
    "#     index=False              # No incluir el índice de pandas como columna\n",
    "# )\n"
   ]
  },
  {
   "cell_type": "code",
   "execution_count": null,
   "id": "562957f1-b017-4d50-9d8f-f7e59b905ba6",
   "metadata": {
    "scrolled": true
   },
   "outputs": [],
   "source": [
    "#from sqlalchemy import text\n",
    "#Verificar que la tabla ha sido insertada en la BD\n",
    "with engine.connect() as connection:\n",
    "    result = connection.execute(text(\"SELECT table_name FROM information_schema.tables WHERE table_schema='public'\"))\n",
    "    for row in result:\n",
    "        print(row[0])\n"
   ]
  },
  {
   "cell_type": "code",
   "execution_count": null,
   "id": "57e59162-817e-4ccc-a89e-be4381d3869a",
   "metadata": {},
   "outputs": [],
   "source": [
    "# Reemplaza la tabla si ya existe (truncate + insert)\n",
    "#df_combined.to_sql('tablacontodos', con=engine, if_exists='replace', index=False)\n",
    "\n"
   ]
  },
  {
   "cell_type": "code",
   "execution_count": null,
   "id": "3e5c46fa-aef3-4dc5-920b-a695b5e153cd",
   "metadata": {
    "scrolled": true
   },
   "outputs": [],
   "source": [
    "#Ver la tablacontodos\n",
    "df_verificacion = pd.read_sql('SELECT * FROM \"public\".\"tablacontodos\"', engine)\n",
    "df_verificacion.head(50)\n"
   ]
  },
  {
   "cell_type": "code",
   "execution_count": null,
   "id": "63989bbc-719f-4c19-9788-8c03791bf5ce",
   "metadata": {},
   "outputs": [],
   "source": []
  }
 ],
 "metadata": {
  "kernelspec": {
   "display_name": "Python (jbpm-data)",
   "language": "python",
   "name": "jbpm-data"
  },
  "language_info": {
   "codemirror_mode": {
    "name": "ipython",
    "version": 3
   },
   "file_extension": ".py",
   "mimetype": "text/x-python",
   "name": "python",
   "nbconvert_exporter": "python",
   "pygments_lexer": "ipython3",
   "version": "3.9.6"
  }
 },
 "nbformat": 4,
 "nbformat_minor": 5
}
