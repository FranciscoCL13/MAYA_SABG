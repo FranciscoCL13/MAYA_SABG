{
 "cells": [
  {
   "cell_type": "code",
   "execution_count": 10,
   "id": "96efe412-cf1a-451c-b2f2-3d02dda51bb7",
   "metadata": {},
   "outputs": [
    {
     "name": "stdout",
     "output_type": "stream",
     "text": [
      "Salida del script:\n",
      "Empaquetando todos los archivos desde el contenedor...\n",
      "./\n",
      "./Guia_Persistencia_jBPM.pdf\n",
      "./qwertyui (2).pdf\n",
      "./Guia_Persistencia_jBPM (2).pdf\n",
      "./qwertyui.pdf\n",
      "./Guia_Persistencia_jBPM (1) (1) (2) (1) (3).pdf\n",
      "./Cuenta_Bancaria_012180015702171004_Francisco_Contreras_loo.pdf\n",
      "Listo. Ahora puedes descomprimir el archivo .tar en tu carpeta destino.\n",
      "Presione una tecla para continuar . . . \n",
      "\n",
      "¡Archivos PDF extraídos!\n"
     ]
    },
    {
     "name": "stderr",
     "output_type": "stream",
     "text": [
      "C:\\Users\\francisco.contreras\\AppData\\Local\\Temp\\ipykernel_18456\\3078520857.py:38: DeprecationWarning: Python 3.14 will, by default, filter extracted tar archives and reject files or modify their metadata. Use the filter argument to control this behavior.\n",
      "  tar.extractall(path=extract_path)\n"
     ]
    }
   ],
   "source": [
    "# Importar el módulo tarfile para trabajar con archivos .tar (lectura, extracción, etc.)\n",
    "import tarfile\n",
    "\n",
    "# Ruta completa al archivo .tar que contiene los archivos PDF\n",
    "tar_path = r\"C:\\Users\\francisco.contreras\\Desktop\\jupyter-projects\\notebooks\\archivosAdjuntos\\docs_only.tar\"\n",
    "# Ruta donde los archivos se extraerán localmente\n",
    "extract_path = r\"C:\\Users\\francisco.contreras\\Desktop\\jupyter-projects\\notebooks\\archivosAdjuntos\"\n",
    "\n",
    "# Importar el módulo subprocess para ejecutar comandos del sistema desde Python\n",
    "import subprocess\n",
    "\n",
    "# Ruta completa al archivo .bat que contiene los comandos para copiar los archivos desde Docker\n",
    "bat_file_path = r\"C:\\Users\\francisco.contreras\\Documents\\docker-compose\\copiar_docs.bat\"\n",
    "\n",
    "# Ejecutar el archivo .bat utilizando subprocess\n",
    "try:\n",
    "    # Ejecutar el archivo .bat, capturando tanto la salida estándar como los errores\n",
    "    result = subprocess.run(bat_file_path, shell=True, check=True, stdout=subprocess.PIPE, stderr=subprocess.PIPE, text=True)\n",
    "\n",
    "    # Imprimir la salida estándar del script .bat (es decir, los resultados de su ejecución)\n",
    "    print(\"Salida del script:\")\n",
    "    print(result.stdout)\n",
    "\n",
    "    # Si hubo errores durante la ejecución, los imprime también\n",
    "    if result.stderr:\n",
    "        print(\"Errores:\")\n",
    "        print(result.stderr)\n",
    "\n",
    "# Si ocurre un error al ejecutar el archivo .bat, capturamos y mostramos la excepción\n",
    "except subprocess.CalledProcessError as e:\n",
    "    print(f\"Ocurrió un error al ejecutar el script: {e}\")\n",
    "    # Imprimir la salida de error del script .bat\n",
    "    print(f\"Salida de error:\\n{e.stderr}\")\n",
    "\n",
    "# Ahora, extraer los archivos PDF del archivo .tar\n",
    "with tarfile.open(tar_path, \"r\") as tar:\n",
    "    # Extrae todo el contenido del archivo .tar en la ruta local especificada\n",
    "    tar.extractall(path=extract_path)\n",
    "\n",
    "# Imprimir mensaje de confirmación después de extraer los archivos\n",
    "print(\"¡Archivos PDF extraídos!\")\n"
   ]
  },
  {
   "cell_type": "code",
   "execution_count": null,
   "id": "991ab003-6479-456c-9b29-fb91b4a4c77b",
   "metadata": {},
   "outputs": [],
   "source": []
  }
 ],
 "metadata": {
  "kernelspec": {
   "display_name": "Python 3 (ipykernel)",
   "language": "python",
   "name": "python3"
  },
  "language_info": {
   "codemirror_mode": {
    "name": "ipython",
    "version": 3
   },
   "file_extension": ".py",
   "mimetype": "text/x-python",
   "name": "python",
   "nbconvert_exporter": "python",
   "pygments_lexer": "ipython3",
   "version": "3.13.3"
  }
 },
 "nbformat": 4,
 "nbformat_minor": 5
}
