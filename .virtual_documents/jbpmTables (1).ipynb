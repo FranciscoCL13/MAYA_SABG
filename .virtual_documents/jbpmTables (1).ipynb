#!pip install psycopg2-binary



from sqlalchemy import create_engine, text
import pandas as pd

# Parámetros de conexión
user = 'jbpm'
password = 'jbpm'
host = 'localhost'
port = '5432'
database = 'jbpm'

# Crea la URL de conexión
engine = create_engine(f'postgresql+psycopg2://{user}:{password}@{host}:{port}/{database}')

# Probar conexión: listar tablas
with engine.connect() as connection:
    result = connection.execute(text("SELECT table_name FROM information_schema.tables WHERE table_schema='public'"))
    for row in result:
        # Imprimir usando el índice de la tupla
        print(row[0])  # row[0] es el valor de la primera columna (table_name)





# dfjackone = pd.read_sql('''SELECT 
#         column_name, data_type 
#     FROM 
#         information_schema.columns
#     WHERE 
#         table_name = 'entityjacktwo';''', engine)
# dfjackone.head(50)



dfjackone = pd.read_sql("SELECT * FROM ujackone", engine)
dfjackone.head()



dfjacktwo = pd.read_sql("SELECT * FROM ujohn", engine)
dfjacktwo.head()



dfjohn = pd.read_sql("SELECT * FROM ukaty", engine)
dfjohn.head()



dfkaty= pd.read_sql("SELECT * FROM ujacktwo", engine)
dfkaty.head()




#df_concat = pd.concat([dfjackone, dfjacktwo,dfjohn,dfkaty], ignore_index=False)
# Lista de DataFrames a combinar
from functools import reduce

dfs = [dfjackone, dfjacktwo, dfjohn, dfkaty]

# Función para combinar dos DataFrames
def merge_two(left, right):
    return pd.merge(left, right, on='id', how='outer')

# Combinación de todos los DataFrames
df_concat = reduce(merge_two, dfs)

#eliminar duplicados
#df_concat = df_concat.drop_duplicates()
df_concat = df_concat.drop_duplicates(subset=['id'])

# Mostrar las primeras filas del DataFrame combinado
df_concat.head(50)



#'dfjackone' in locals()




df_concat.to_sql(
    name='tablacontodos',    # Nombre de la tabla en PostgreSQL
    con=engine,              # Conexión a la base de datos
    if_exists='append',      # Crea la tabla o la reemplaza si ya existe
    index=False              # No incluir el índice de pandas como columna
)



from sqlalchemy import text

with engine.connect() as connection:
    result = connection.execute(text("SELECT table_name FROM information_schema.tables WHERE table_schema='public'"))
    for row in result:
        print(row[0])




df_verificacion = pd.read_sql('SELECT * FROM "public"."tablacontodos"', engine)
df_verificacion.tail()



# !pip install flask
