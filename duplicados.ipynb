{
 "cells": [
  {
   "cell_type": "code",
   "execution_count": null,
   "id": "9918953e-212b-494e-9fe0-06b141f098dd",
   "metadata": {},
   "outputs": [],
   "source": [
    "import pandas as pd\n",
    "\n",
    "# 1. Cargar el Excel desde una ruta\n",
    "ruta_excel = r'C:\\ruta\\a\\tu\\archivo.xlsx'\n",
    "df_excel = pd.read_excel(ruta_excel)\n",
    "\n",
    "# 2. Cargar otra tabla, por ejemplo desde PostgreSQL o un CSV\n",
    "# Simulación con otro DataFrame\n",
    "df_base = pd.DataFrame({\n",
    "    'clave': ['A123', 'B456', 'C789'],\n",
    "    'dato': ['valor1', 'valor2', 'valor3']\n",
    "})\n",
    "\n",
    "# 3. Comparar duplicados por la columna 'clave' (puedes cambiarla por la que necesites)\n",
    "columna_comparacion = 'clave'\n",
    "\n",
    "# Duplicados: valores en Excel que ya existen en df_base\n",
    "duplicados = df_excel[df_excel[columna_comparacion].isin(df_base[columna_comparacion])]\n",
    "\n",
    "# Opcional: valores únicos (que no están duplicados)\n",
    "no_duplicados = df_excel[~df_excel[columna_comparacion].isin(df_base[columna_comparacion])]\n",
    "\n",
    "# Imprimir resultados\n",
    "print(\"Duplicados encontrados:\")\n",
    "print(duplicados)\n",
    "\n",
    "print(\"\\nNo duplicados:\")\n",
    "print(no_duplicados)\n"
   ]
  }
 ],
 "metadata": {
  "kernelspec": {
   "display_name": "Python 3 (ipykernel)",
   "language": "python",
   "name": "python3"
  },
  "language_info": {
   "codemirror_mode": {
    "name": "ipython",
    "version": 3
   },
   "file_extension": ".py",
   "mimetype": "text/x-python",
   "name": "python",
   "nbconvert_exporter": "python",
   "pygments_lexer": "ipython3",
   "version": "3.12.7"
  }
 },
 "nbformat": 4,
 "nbformat_minor": 5
}
